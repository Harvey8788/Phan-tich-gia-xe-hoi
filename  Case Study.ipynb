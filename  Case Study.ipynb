{
 "cells": [
  {
   "cell_type": "code",
   "execution_count": 668,
   "id": "60fbb9b5",
   "metadata": {},
   "outputs": [
    {
     "data": {
      "text/html": [
       "<div>\n",
       "<style scoped>\n",
       "    .dataframe tbody tr th:only-of-type {\n",
       "        vertical-align: middle;\n",
       "    }\n",
       "\n",
       "    .dataframe tbody tr th {\n",
       "        vertical-align: top;\n",
       "    }\n",
       "\n",
       "    .dataframe thead th {\n",
       "        text-align: right;\n",
       "    }\n",
       "</style>\n",
       "<table border=\"1\" class=\"dataframe\">\n",
       "  <thead>\n",
       "    <tr style=\"text-align: right;\">\n",
       "      <th></th>\n",
       "      <th>car_ID</th>\n",
       "      <th>symboling</th>\n",
       "      <th>CarName</th>\n",
       "      <th>fueltype</th>\n",
       "      <th>aspiration</th>\n",
       "      <th>doornumber</th>\n",
       "      <th>carbody</th>\n",
       "      <th>drivewheel</th>\n",
       "      <th>enginelocation</th>\n",
       "      <th>wheelbase</th>\n",
       "      <th>...</th>\n",
       "      <th>enginesize</th>\n",
       "      <th>fuelsystem</th>\n",
       "      <th>boreratio</th>\n",
       "      <th>stroke</th>\n",
       "      <th>compressionratio</th>\n",
       "      <th>horsepower</th>\n",
       "      <th>peakrpm</th>\n",
       "      <th>citympg</th>\n",
       "      <th>highwaympg</th>\n",
       "      <th>price</th>\n",
       "    </tr>\n",
       "  </thead>\n",
       "  <tbody>\n",
       "    <tr>\n",
       "      <th>0</th>\n",
       "      <td>1</td>\n",
       "      <td>3</td>\n",
       "      <td>alfa-romero giulia</td>\n",
       "      <td>gas</td>\n",
       "      <td>std</td>\n",
       "      <td>two</td>\n",
       "      <td>convertible</td>\n",
       "      <td>rwd</td>\n",
       "      <td>front</td>\n",
       "      <td>88.6</td>\n",
       "      <td>...</td>\n",
       "      <td>130</td>\n",
       "      <td>mpfi</td>\n",
       "      <td>3.47</td>\n",
       "      <td>2.68</td>\n",
       "      <td>9.0</td>\n",
       "      <td>111</td>\n",
       "      <td>5000</td>\n",
       "      <td>21</td>\n",
       "      <td>27</td>\n",
       "      <td>13495.0</td>\n",
       "    </tr>\n",
       "    <tr>\n",
       "      <th>1</th>\n",
       "      <td>2</td>\n",
       "      <td>3</td>\n",
       "      <td>alfa-romero stelvio</td>\n",
       "      <td>gas</td>\n",
       "      <td>std</td>\n",
       "      <td>two</td>\n",
       "      <td>convertible</td>\n",
       "      <td>rwd</td>\n",
       "      <td>front</td>\n",
       "      <td>88.6</td>\n",
       "      <td>...</td>\n",
       "      <td>130</td>\n",
       "      <td>mpfi</td>\n",
       "      <td>3.47</td>\n",
       "      <td>2.68</td>\n",
       "      <td>9.0</td>\n",
       "      <td>111</td>\n",
       "      <td>5000</td>\n",
       "      <td>21</td>\n",
       "      <td>27</td>\n",
       "      <td>16500.0</td>\n",
       "    </tr>\n",
       "    <tr>\n",
       "      <th>2</th>\n",
       "      <td>3</td>\n",
       "      <td>1</td>\n",
       "      <td>alfa-romero Quadrifoglio</td>\n",
       "      <td>gas</td>\n",
       "      <td>std</td>\n",
       "      <td>two</td>\n",
       "      <td>hatchback</td>\n",
       "      <td>rwd</td>\n",
       "      <td>front</td>\n",
       "      <td>94.5</td>\n",
       "      <td>...</td>\n",
       "      <td>152</td>\n",
       "      <td>mpfi</td>\n",
       "      <td>2.68</td>\n",
       "      <td>3.47</td>\n",
       "      <td>9.0</td>\n",
       "      <td>154</td>\n",
       "      <td>5000</td>\n",
       "      <td>19</td>\n",
       "      <td>26</td>\n",
       "      <td>16500.0</td>\n",
       "    </tr>\n",
       "    <tr>\n",
       "      <th>3</th>\n",
       "      <td>4</td>\n",
       "      <td>2</td>\n",
       "      <td>audi 100 ls</td>\n",
       "      <td>gas</td>\n",
       "      <td>std</td>\n",
       "      <td>four</td>\n",
       "      <td>sedan</td>\n",
       "      <td>fwd</td>\n",
       "      <td>front</td>\n",
       "      <td>99.8</td>\n",
       "      <td>...</td>\n",
       "      <td>109</td>\n",
       "      <td>mpfi</td>\n",
       "      <td>3.19</td>\n",
       "      <td>3.40</td>\n",
       "      <td>10.0</td>\n",
       "      <td>102</td>\n",
       "      <td>5500</td>\n",
       "      <td>24</td>\n",
       "      <td>30</td>\n",
       "      <td>13950.0</td>\n",
       "    </tr>\n",
       "    <tr>\n",
       "      <th>4</th>\n",
       "      <td>5</td>\n",
       "      <td>2</td>\n",
       "      <td>audi 100ls</td>\n",
       "      <td>gas</td>\n",
       "      <td>std</td>\n",
       "      <td>four</td>\n",
       "      <td>sedan</td>\n",
       "      <td>4wd</td>\n",
       "      <td>front</td>\n",
       "      <td>99.4</td>\n",
       "      <td>...</td>\n",
       "      <td>136</td>\n",
       "      <td>mpfi</td>\n",
       "      <td>3.19</td>\n",
       "      <td>3.40</td>\n",
       "      <td>8.0</td>\n",
       "      <td>115</td>\n",
       "      <td>5500</td>\n",
       "      <td>18</td>\n",
       "      <td>22</td>\n",
       "      <td>17450.0</td>\n",
       "    </tr>\n",
       "    <tr>\n",
       "      <th>...</th>\n",
       "      <td>...</td>\n",
       "      <td>...</td>\n",
       "      <td>...</td>\n",
       "      <td>...</td>\n",
       "      <td>...</td>\n",
       "      <td>...</td>\n",
       "      <td>...</td>\n",
       "      <td>...</td>\n",
       "      <td>...</td>\n",
       "      <td>...</td>\n",
       "      <td>...</td>\n",
       "      <td>...</td>\n",
       "      <td>...</td>\n",
       "      <td>...</td>\n",
       "      <td>...</td>\n",
       "      <td>...</td>\n",
       "      <td>...</td>\n",
       "      <td>...</td>\n",
       "      <td>...</td>\n",
       "      <td>...</td>\n",
       "      <td>...</td>\n",
       "    </tr>\n",
       "    <tr>\n",
       "      <th>200</th>\n",
       "      <td>201</td>\n",
       "      <td>-1</td>\n",
       "      <td>volvo 145e (sw)</td>\n",
       "      <td>gas</td>\n",
       "      <td>std</td>\n",
       "      <td>four</td>\n",
       "      <td>sedan</td>\n",
       "      <td>rwd</td>\n",
       "      <td>front</td>\n",
       "      <td>109.1</td>\n",
       "      <td>...</td>\n",
       "      <td>141</td>\n",
       "      <td>mpfi</td>\n",
       "      <td>3.78</td>\n",
       "      <td>3.15</td>\n",
       "      <td>9.5</td>\n",
       "      <td>114</td>\n",
       "      <td>5400</td>\n",
       "      <td>23</td>\n",
       "      <td>28</td>\n",
       "      <td>16845.0</td>\n",
       "    </tr>\n",
       "    <tr>\n",
       "      <th>201</th>\n",
       "      <td>202</td>\n",
       "      <td>-1</td>\n",
       "      <td>volvo 144ea</td>\n",
       "      <td>gas</td>\n",
       "      <td>turbo</td>\n",
       "      <td>four</td>\n",
       "      <td>sedan</td>\n",
       "      <td>rwd</td>\n",
       "      <td>front</td>\n",
       "      <td>109.1</td>\n",
       "      <td>...</td>\n",
       "      <td>141</td>\n",
       "      <td>mpfi</td>\n",
       "      <td>3.78</td>\n",
       "      <td>3.15</td>\n",
       "      <td>8.7</td>\n",
       "      <td>160</td>\n",
       "      <td>5300</td>\n",
       "      <td>19</td>\n",
       "      <td>25</td>\n",
       "      <td>19045.0</td>\n",
       "    </tr>\n",
       "    <tr>\n",
       "      <th>202</th>\n",
       "      <td>203</td>\n",
       "      <td>-1</td>\n",
       "      <td>volvo 244dl</td>\n",
       "      <td>gas</td>\n",
       "      <td>std</td>\n",
       "      <td>four</td>\n",
       "      <td>sedan</td>\n",
       "      <td>rwd</td>\n",
       "      <td>front</td>\n",
       "      <td>109.1</td>\n",
       "      <td>...</td>\n",
       "      <td>173</td>\n",
       "      <td>mpfi</td>\n",
       "      <td>3.58</td>\n",
       "      <td>2.87</td>\n",
       "      <td>8.8</td>\n",
       "      <td>134</td>\n",
       "      <td>5500</td>\n",
       "      <td>18</td>\n",
       "      <td>23</td>\n",
       "      <td>21485.0</td>\n",
       "    </tr>\n",
       "    <tr>\n",
       "      <th>203</th>\n",
       "      <td>204</td>\n",
       "      <td>-1</td>\n",
       "      <td>volvo 246</td>\n",
       "      <td>diesel</td>\n",
       "      <td>turbo</td>\n",
       "      <td>four</td>\n",
       "      <td>sedan</td>\n",
       "      <td>rwd</td>\n",
       "      <td>front</td>\n",
       "      <td>109.1</td>\n",
       "      <td>...</td>\n",
       "      <td>145</td>\n",
       "      <td>idi</td>\n",
       "      <td>3.01</td>\n",
       "      <td>3.40</td>\n",
       "      <td>23.0</td>\n",
       "      <td>106</td>\n",
       "      <td>4800</td>\n",
       "      <td>26</td>\n",
       "      <td>27</td>\n",
       "      <td>22470.0</td>\n",
       "    </tr>\n",
       "    <tr>\n",
       "      <th>204</th>\n",
       "      <td>205</td>\n",
       "      <td>-1</td>\n",
       "      <td>volvo 264gl</td>\n",
       "      <td>gas</td>\n",
       "      <td>turbo</td>\n",
       "      <td>four</td>\n",
       "      <td>sedan</td>\n",
       "      <td>rwd</td>\n",
       "      <td>front</td>\n",
       "      <td>109.1</td>\n",
       "      <td>...</td>\n",
       "      <td>141</td>\n",
       "      <td>mpfi</td>\n",
       "      <td>3.78</td>\n",
       "      <td>3.15</td>\n",
       "      <td>9.5</td>\n",
       "      <td>114</td>\n",
       "      <td>5400</td>\n",
       "      <td>19</td>\n",
       "      <td>25</td>\n",
       "      <td>22625.0</td>\n",
       "    </tr>\n",
       "  </tbody>\n",
       "</table>\n",
       "<p>205 rows × 26 columns</p>\n",
       "</div>"
      ],
      "text/plain": [
       "     car_ID  symboling                   CarName fueltype aspiration  \\\n",
       "0         1          3        alfa-romero giulia      gas        std   \n",
       "1         2          3       alfa-romero stelvio      gas        std   \n",
       "2         3          1  alfa-romero Quadrifoglio      gas        std   \n",
       "3         4          2               audi 100 ls      gas        std   \n",
       "4         5          2                audi 100ls      gas        std   \n",
       "..      ...        ...                       ...      ...        ...   \n",
       "200     201         -1           volvo 145e (sw)      gas        std   \n",
       "201     202         -1               volvo 144ea      gas      turbo   \n",
       "202     203         -1               volvo 244dl      gas        std   \n",
       "203     204         -1                 volvo 246   diesel      turbo   \n",
       "204     205         -1               volvo 264gl      gas      turbo   \n",
       "\n",
       "    doornumber      carbody drivewheel enginelocation  wheelbase  ...  \\\n",
       "0          two  convertible        rwd          front       88.6  ...   \n",
       "1          two  convertible        rwd          front       88.6  ...   \n",
       "2          two    hatchback        rwd          front       94.5  ...   \n",
       "3         four        sedan        fwd          front       99.8  ...   \n",
       "4         four        sedan        4wd          front       99.4  ...   \n",
       "..         ...          ...        ...            ...        ...  ...   \n",
       "200       four        sedan        rwd          front      109.1  ...   \n",
       "201       four        sedan        rwd          front      109.1  ...   \n",
       "202       four        sedan        rwd          front      109.1  ...   \n",
       "203       four        sedan        rwd          front      109.1  ...   \n",
       "204       four        sedan        rwd          front      109.1  ...   \n",
       "\n",
       "     enginesize  fuelsystem  boreratio  stroke compressionratio horsepower  \\\n",
       "0           130        mpfi       3.47    2.68              9.0        111   \n",
       "1           130        mpfi       3.47    2.68              9.0        111   \n",
       "2           152        mpfi       2.68    3.47              9.0        154   \n",
       "3           109        mpfi       3.19    3.40             10.0        102   \n",
       "4           136        mpfi       3.19    3.40              8.0        115   \n",
       "..          ...         ...        ...     ...              ...        ...   \n",
       "200         141        mpfi       3.78    3.15              9.5        114   \n",
       "201         141        mpfi       3.78    3.15              8.7        160   \n",
       "202         173        mpfi       3.58    2.87              8.8        134   \n",
       "203         145         idi       3.01    3.40             23.0        106   \n",
       "204         141        mpfi       3.78    3.15              9.5        114   \n",
       "\n",
       "     peakrpm citympg  highwaympg    price  \n",
       "0       5000      21          27  13495.0  \n",
       "1       5000      21          27  16500.0  \n",
       "2       5000      19          26  16500.0  \n",
       "3       5500      24          30  13950.0  \n",
       "4       5500      18          22  17450.0  \n",
       "..       ...     ...         ...      ...  \n",
       "200     5400      23          28  16845.0  \n",
       "201     5300      19          25  19045.0  \n",
       "202     5500      18          23  21485.0  \n",
       "203     4800      26          27  22470.0  \n",
       "204     5400      19          25  22625.0  \n",
       "\n",
       "[205 rows x 26 columns]"
      ]
     },
     "execution_count": 668,
     "metadata": {},
     "output_type": "execute_result"
    }
   ],
   "source": [
    "import pandas as pd\n",
    "import numpy as np\n",
    "import seaborn as sns\n",
    "import matplotlib.pyplot as plt\n",
    "data = pd.read_csv('/Users/duymacbookpro/Desktop/Coding/Codegym1/Case_study_CarPrice_Assignment.csv')\n",
    "data"
   ]
  },
  {
   "cell_type": "code",
   "execution_count": 669,
   "id": "265ce008",
   "metadata": {},
   "outputs": [
    {
     "name": "stdout",
     "output_type": "stream",
     "text": [
      "<class 'pandas.core.frame.DataFrame'>\n",
      "RangeIndex: 205 entries, 0 to 204\n",
      "Data columns (total 26 columns):\n",
      " #   Column            Non-Null Count  Dtype  \n",
      "---  ------            --------------  -----  \n",
      " 0   car_ID            205 non-null    int64  \n",
      " 1   symboling         205 non-null    int64  \n",
      " 2   CarName           205 non-null    object \n",
      " 3   fueltype          205 non-null    object \n",
      " 4   aspiration        205 non-null    object \n",
      " 5   doornumber        205 non-null    object \n",
      " 6   carbody           205 non-null    object \n",
      " 7   drivewheel        205 non-null    object \n",
      " 8   enginelocation    205 non-null    object \n",
      " 9   wheelbase         205 non-null    float64\n",
      " 10  carlength         205 non-null    float64\n",
      " 11  carwidth          205 non-null    float64\n",
      " 12  carheight         205 non-null    float64\n",
      " 13  curbweight        205 non-null    int64  \n",
      " 14  enginetype        205 non-null    object \n",
      " 15  cylindernumber    205 non-null    object \n",
      " 16  enginesize        205 non-null    int64  \n",
      " 17  fuelsystem        205 non-null    object \n",
      " 18  boreratio         205 non-null    float64\n",
      " 19  stroke            205 non-null    float64\n",
      " 20  compressionratio  205 non-null    float64\n",
      " 21  horsepower        205 non-null    int64  \n",
      " 22  peakrpm           205 non-null    int64  \n",
      " 23  citympg           205 non-null    int64  \n",
      " 24  highwaympg        205 non-null    int64  \n",
      " 25  price             205 non-null    float64\n",
      "dtypes: float64(8), int64(8), object(10)\n",
      "memory usage: 41.8+ KB\n"
     ]
    }
   ],
   "source": [
    "data.info()"
   ]
  },
  {
   "cell_type": "code",
   "execution_count": 74,
   "id": "7069c31c",
   "metadata": {},
   "outputs": [
    {
     "data": {
      "text/html": [
       "<div>\n",
       "<style scoped>\n",
       "    .dataframe tbody tr th:only-of-type {\n",
       "        vertical-align: middle;\n",
       "    }\n",
       "\n",
       "    .dataframe tbody tr th {\n",
       "        vertical-align: top;\n",
       "    }\n",
       "\n",
       "    .dataframe thead th {\n",
       "        text-align: right;\n",
       "    }\n",
       "</style>\n",
       "<table border=\"1\" class=\"dataframe\">\n",
       "  <thead>\n",
       "    <tr style=\"text-align: right;\">\n",
       "      <th></th>\n",
       "      <th>car_ID</th>\n",
       "      <th>symboling</th>\n",
       "      <th>CarName</th>\n",
       "      <th>fueltype</th>\n",
       "      <th>aspiration</th>\n",
       "      <th>doornumber</th>\n",
       "      <th>carbody</th>\n",
       "      <th>drivewheel</th>\n",
       "      <th>enginelocation</th>\n",
       "      <th>wheelbase</th>\n",
       "      <th>...</th>\n",
       "      <th>enginesize</th>\n",
       "      <th>fuelsystem</th>\n",
       "      <th>boreratio</th>\n",
       "      <th>stroke</th>\n",
       "      <th>compressionratio</th>\n",
       "      <th>horsepower</th>\n",
       "      <th>peakrpm</th>\n",
       "      <th>citympg</th>\n",
       "      <th>highwaympg</th>\n",
       "      <th>price</th>\n",
       "    </tr>\n",
       "  </thead>\n",
       "  <tbody>\n",
       "    <tr>\n",
       "      <th>0</th>\n",
       "      <td>1</td>\n",
       "      <td>3</td>\n",
       "      <td>alfa-romero giulia</td>\n",
       "      <td>gas</td>\n",
       "      <td>std</td>\n",
       "      <td>two</td>\n",
       "      <td>convertible</td>\n",
       "      <td>rwd</td>\n",
       "      <td>front</td>\n",
       "      <td>88.6</td>\n",
       "      <td>...</td>\n",
       "      <td>130</td>\n",
       "      <td>mpfi</td>\n",
       "      <td>3.47</td>\n",
       "      <td>2.68</td>\n",
       "      <td>9.0</td>\n",
       "      <td>111</td>\n",
       "      <td>5000</td>\n",
       "      <td>21</td>\n",
       "      <td>27</td>\n",
       "      <td>13495.000</td>\n",
       "    </tr>\n",
       "    <tr>\n",
       "      <th>1</th>\n",
       "      <td>2</td>\n",
       "      <td>3</td>\n",
       "      <td>alfa-romero stelvio</td>\n",
       "      <td>gas</td>\n",
       "      <td>std</td>\n",
       "      <td>two</td>\n",
       "      <td>convertible</td>\n",
       "      <td>rwd</td>\n",
       "      <td>front</td>\n",
       "      <td>88.6</td>\n",
       "      <td>...</td>\n",
       "      <td>130</td>\n",
       "      <td>mpfi</td>\n",
       "      <td>3.47</td>\n",
       "      <td>2.68</td>\n",
       "      <td>9.0</td>\n",
       "      <td>111</td>\n",
       "      <td>5000</td>\n",
       "      <td>21</td>\n",
       "      <td>27</td>\n",
       "      <td>16500.000</td>\n",
       "    </tr>\n",
       "    <tr>\n",
       "      <th>2</th>\n",
       "      <td>3</td>\n",
       "      <td>1</td>\n",
       "      <td>alfa-romero Quadrifoglio</td>\n",
       "      <td>gas</td>\n",
       "      <td>std</td>\n",
       "      <td>two</td>\n",
       "      <td>hatchback</td>\n",
       "      <td>rwd</td>\n",
       "      <td>front</td>\n",
       "      <td>94.5</td>\n",
       "      <td>...</td>\n",
       "      <td>152</td>\n",
       "      <td>mpfi</td>\n",
       "      <td>2.68</td>\n",
       "      <td>3.47</td>\n",
       "      <td>9.0</td>\n",
       "      <td>154</td>\n",
       "      <td>5000</td>\n",
       "      <td>19</td>\n",
       "      <td>26</td>\n",
       "      <td>16500.000</td>\n",
       "    </tr>\n",
       "    <tr>\n",
       "      <th>3</th>\n",
       "      <td>4</td>\n",
       "      <td>2</td>\n",
       "      <td>audi 100 ls</td>\n",
       "      <td>gas</td>\n",
       "      <td>std</td>\n",
       "      <td>four</td>\n",
       "      <td>sedan</td>\n",
       "      <td>fwd</td>\n",
       "      <td>front</td>\n",
       "      <td>99.8</td>\n",
       "      <td>...</td>\n",
       "      <td>109</td>\n",
       "      <td>mpfi</td>\n",
       "      <td>3.19</td>\n",
       "      <td>3.40</td>\n",
       "      <td>10.0</td>\n",
       "      <td>102</td>\n",
       "      <td>5500</td>\n",
       "      <td>24</td>\n",
       "      <td>30</td>\n",
       "      <td>13950.000</td>\n",
       "    </tr>\n",
       "    <tr>\n",
       "      <th>4</th>\n",
       "      <td>5</td>\n",
       "      <td>2</td>\n",
       "      <td>audi 100ls</td>\n",
       "      <td>gas</td>\n",
       "      <td>std</td>\n",
       "      <td>four</td>\n",
       "      <td>sedan</td>\n",
       "      <td>4wd</td>\n",
       "      <td>front</td>\n",
       "      <td>99.4</td>\n",
       "      <td>...</td>\n",
       "      <td>136</td>\n",
       "      <td>mpfi</td>\n",
       "      <td>3.19</td>\n",
       "      <td>3.40</td>\n",
       "      <td>8.0</td>\n",
       "      <td>115</td>\n",
       "      <td>5500</td>\n",
       "      <td>18</td>\n",
       "      <td>22</td>\n",
       "      <td>17450.000</td>\n",
       "    </tr>\n",
       "    <tr>\n",
       "      <th>5</th>\n",
       "      <td>6</td>\n",
       "      <td>2</td>\n",
       "      <td>audi fox</td>\n",
       "      <td>gas</td>\n",
       "      <td>std</td>\n",
       "      <td>two</td>\n",
       "      <td>sedan</td>\n",
       "      <td>fwd</td>\n",
       "      <td>front</td>\n",
       "      <td>99.8</td>\n",
       "      <td>...</td>\n",
       "      <td>136</td>\n",
       "      <td>mpfi</td>\n",
       "      <td>3.19</td>\n",
       "      <td>3.40</td>\n",
       "      <td>8.5</td>\n",
       "      <td>110</td>\n",
       "      <td>5500</td>\n",
       "      <td>19</td>\n",
       "      <td>25</td>\n",
       "      <td>15250.000</td>\n",
       "    </tr>\n",
       "    <tr>\n",
       "      <th>6</th>\n",
       "      <td>7</td>\n",
       "      <td>1</td>\n",
       "      <td>audi 100ls</td>\n",
       "      <td>gas</td>\n",
       "      <td>std</td>\n",
       "      <td>four</td>\n",
       "      <td>sedan</td>\n",
       "      <td>fwd</td>\n",
       "      <td>front</td>\n",
       "      <td>105.8</td>\n",
       "      <td>...</td>\n",
       "      <td>136</td>\n",
       "      <td>mpfi</td>\n",
       "      <td>3.19</td>\n",
       "      <td>3.40</td>\n",
       "      <td>8.5</td>\n",
       "      <td>110</td>\n",
       "      <td>5500</td>\n",
       "      <td>19</td>\n",
       "      <td>25</td>\n",
       "      <td>17710.000</td>\n",
       "    </tr>\n",
       "    <tr>\n",
       "      <th>7</th>\n",
       "      <td>8</td>\n",
       "      <td>1</td>\n",
       "      <td>audi 5000</td>\n",
       "      <td>gas</td>\n",
       "      <td>std</td>\n",
       "      <td>four</td>\n",
       "      <td>wagon</td>\n",
       "      <td>fwd</td>\n",
       "      <td>front</td>\n",
       "      <td>105.8</td>\n",
       "      <td>...</td>\n",
       "      <td>136</td>\n",
       "      <td>mpfi</td>\n",
       "      <td>3.19</td>\n",
       "      <td>3.40</td>\n",
       "      <td>8.5</td>\n",
       "      <td>110</td>\n",
       "      <td>5500</td>\n",
       "      <td>19</td>\n",
       "      <td>25</td>\n",
       "      <td>18920.000</td>\n",
       "    </tr>\n",
       "    <tr>\n",
       "      <th>8</th>\n",
       "      <td>9</td>\n",
       "      <td>1</td>\n",
       "      <td>audi 4000</td>\n",
       "      <td>gas</td>\n",
       "      <td>turbo</td>\n",
       "      <td>four</td>\n",
       "      <td>sedan</td>\n",
       "      <td>fwd</td>\n",
       "      <td>front</td>\n",
       "      <td>105.8</td>\n",
       "      <td>...</td>\n",
       "      <td>131</td>\n",
       "      <td>mpfi</td>\n",
       "      <td>3.13</td>\n",
       "      <td>3.40</td>\n",
       "      <td>8.3</td>\n",
       "      <td>140</td>\n",
       "      <td>5500</td>\n",
       "      <td>17</td>\n",
       "      <td>20</td>\n",
       "      <td>23875.000</td>\n",
       "    </tr>\n",
       "    <tr>\n",
       "      <th>9</th>\n",
       "      <td>10</td>\n",
       "      <td>0</td>\n",
       "      <td>audi 5000s (diesel)</td>\n",
       "      <td>gas</td>\n",
       "      <td>turbo</td>\n",
       "      <td>two</td>\n",
       "      <td>hatchback</td>\n",
       "      <td>4wd</td>\n",
       "      <td>front</td>\n",
       "      <td>99.5</td>\n",
       "      <td>...</td>\n",
       "      <td>131</td>\n",
       "      <td>mpfi</td>\n",
       "      <td>3.13</td>\n",
       "      <td>3.40</td>\n",
       "      <td>7.0</td>\n",
       "      <td>160</td>\n",
       "      <td>5500</td>\n",
       "      <td>16</td>\n",
       "      <td>22</td>\n",
       "      <td>17859.167</td>\n",
       "    </tr>\n",
       "  </tbody>\n",
       "</table>\n",
       "<p>10 rows × 26 columns</p>\n",
       "</div>"
      ],
      "text/plain": [
       "   car_ID  symboling                   CarName fueltype aspiration doornumber  \\\n",
       "0       1          3        alfa-romero giulia      gas        std        two   \n",
       "1       2          3       alfa-romero stelvio      gas        std        two   \n",
       "2       3          1  alfa-romero Quadrifoglio      gas        std        two   \n",
       "3       4          2               audi 100 ls      gas        std       four   \n",
       "4       5          2                audi 100ls      gas        std       four   \n",
       "5       6          2                  audi fox      gas        std        two   \n",
       "6       7          1                audi 100ls      gas        std       four   \n",
       "7       8          1                 audi 5000      gas        std       four   \n",
       "8       9          1                 audi 4000      gas      turbo       four   \n",
       "9      10          0       audi 5000s (diesel)      gas      turbo        two   \n",
       "\n",
       "       carbody drivewheel enginelocation  wheelbase  ...  enginesize  \\\n",
       "0  convertible        rwd          front       88.6  ...         130   \n",
       "1  convertible        rwd          front       88.6  ...         130   \n",
       "2    hatchback        rwd          front       94.5  ...         152   \n",
       "3        sedan        fwd          front       99.8  ...         109   \n",
       "4        sedan        4wd          front       99.4  ...         136   \n",
       "5        sedan        fwd          front       99.8  ...         136   \n",
       "6        sedan        fwd          front      105.8  ...         136   \n",
       "7        wagon        fwd          front      105.8  ...         136   \n",
       "8        sedan        fwd          front      105.8  ...         131   \n",
       "9    hatchback        4wd          front       99.5  ...         131   \n",
       "\n",
       "   fuelsystem  boreratio  stroke compressionratio horsepower  peakrpm citympg  \\\n",
       "0        mpfi       3.47    2.68              9.0        111     5000      21   \n",
       "1        mpfi       3.47    2.68              9.0        111     5000      21   \n",
       "2        mpfi       2.68    3.47              9.0        154     5000      19   \n",
       "3        mpfi       3.19    3.40             10.0        102     5500      24   \n",
       "4        mpfi       3.19    3.40              8.0        115     5500      18   \n",
       "5        mpfi       3.19    3.40              8.5        110     5500      19   \n",
       "6        mpfi       3.19    3.40              8.5        110     5500      19   \n",
       "7        mpfi       3.19    3.40              8.5        110     5500      19   \n",
       "8        mpfi       3.13    3.40              8.3        140     5500      17   \n",
       "9        mpfi       3.13    3.40              7.0        160     5500      16   \n",
       "\n",
       "   highwaympg      price  \n",
       "0          27  13495.000  \n",
       "1          27  16500.000  \n",
       "2          26  16500.000  \n",
       "3          30  13950.000  \n",
       "4          22  17450.000  \n",
       "5          25  15250.000  \n",
       "6          25  17710.000  \n",
       "7          25  18920.000  \n",
       "8          20  23875.000  \n",
       "9          22  17859.167  \n",
       "\n",
       "[10 rows x 26 columns]"
      ]
     },
     "execution_count": 74,
     "metadata": {},
     "output_type": "execute_result"
    }
   ],
   "source": [
    "data.head(10)"
   ]
  },
  {
   "cell_type": "code",
   "execution_count": 75,
   "id": "a05d9e4e",
   "metadata": {},
   "outputs": [
    {
     "data": {
      "text/html": [
       "<div>\n",
       "<style scoped>\n",
       "    .dataframe tbody tr th:only-of-type {\n",
       "        vertical-align: middle;\n",
       "    }\n",
       "\n",
       "    .dataframe tbody tr th {\n",
       "        vertical-align: top;\n",
       "    }\n",
       "\n",
       "    .dataframe thead th {\n",
       "        text-align: right;\n",
       "    }\n",
       "</style>\n",
       "<table border=\"1\" class=\"dataframe\">\n",
       "  <thead>\n",
       "    <tr style=\"text-align: right;\">\n",
       "      <th></th>\n",
       "      <th>car_ID</th>\n",
       "      <th>symboling</th>\n",
       "      <th>CarName</th>\n",
       "      <th>fueltype</th>\n",
       "      <th>aspiration</th>\n",
       "      <th>doornumber</th>\n",
       "      <th>carbody</th>\n",
       "      <th>drivewheel</th>\n",
       "      <th>enginelocation</th>\n",
       "      <th>wheelbase</th>\n",
       "      <th>...</th>\n",
       "      <th>enginesize</th>\n",
       "      <th>fuelsystem</th>\n",
       "      <th>boreratio</th>\n",
       "      <th>stroke</th>\n",
       "      <th>compressionratio</th>\n",
       "      <th>horsepower</th>\n",
       "      <th>peakrpm</th>\n",
       "      <th>citympg</th>\n",
       "      <th>highwaympg</th>\n",
       "      <th>price</th>\n",
       "    </tr>\n",
       "  </thead>\n",
       "  <tbody>\n",
       "    <tr>\n",
       "      <th>0</th>\n",
       "      <td>True</td>\n",
       "      <td>True</td>\n",
       "      <td>True</td>\n",
       "      <td>True</td>\n",
       "      <td>True</td>\n",
       "      <td>True</td>\n",
       "      <td>True</td>\n",
       "      <td>True</td>\n",
       "      <td>True</td>\n",
       "      <td>True</td>\n",
       "      <td>...</td>\n",
       "      <td>True</td>\n",
       "      <td>True</td>\n",
       "      <td>True</td>\n",
       "      <td>True</td>\n",
       "      <td>True</td>\n",
       "      <td>True</td>\n",
       "      <td>True</td>\n",
       "      <td>True</td>\n",
       "      <td>True</td>\n",
       "      <td>True</td>\n",
       "    </tr>\n",
       "    <tr>\n",
       "      <th>1</th>\n",
       "      <td>True</td>\n",
       "      <td>True</td>\n",
       "      <td>True</td>\n",
       "      <td>True</td>\n",
       "      <td>True</td>\n",
       "      <td>True</td>\n",
       "      <td>True</td>\n",
       "      <td>True</td>\n",
       "      <td>True</td>\n",
       "      <td>True</td>\n",
       "      <td>...</td>\n",
       "      <td>True</td>\n",
       "      <td>True</td>\n",
       "      <td>True</td>\n",
       "      <td>True</td>\n",
       "      <td>True</td>\n",
       "      <td>True</td>\n",
       "      <td>True</td>\n",
       "      <td>True</td>\n",
       "      <td>True</td>\n",
       "      <td>True</td>\n",
       "    </tr>\n",
       "    <tr>\n",
       "      <th>2</th>\n",
       "      <td>True</td>\n",
       "      <td>True</td>\n",
       "      <td>True</td>\n",
       "      <td>True</td>\n",
       "      <td>True</td>\n",
       "      <td>True</td>\n",
       "      <td>True</td>\n",
       "      <td>True</td>\n",
       "      <td>True</td>\n",
       "      <td>True</td>\n",
       "      <td>...</td>\n",
       "      <td>True</td>\n",
       "      <td>True</td>\n",
       "      <td>True</td>\n",
       "      <td>True</td>\n",
       "      <td>True</td>\n",
       "      <td>True</td>\n",
       "      <td>True</td>\n",
       "      <td>True</td>\n",
       "      <td>True</td>\n",
       "      <td>True</td>\n",
       "    </tr>\n",
       "    <tr>\n",
       "      <th>3</th>\n",
       "      <td>True</td>\n",
       "      <td>True</td>\n",
       "      <td>True</td>\n",
       "      <td>True</td>\n",
       "      <td>True</td>\n",
       "      <td>True</td>\n",
       "      <td>True</td>\n",
       "      <td>True</td>\n",
       "      <td>True</td>\n",
       "      <td>True</td>\n",
       "      <td>...</td>\n",
       "      <td>True</td>\n",
       "      <td>True</td>\n",
       "      <td>True</td>\n",
       "      <td>True</td>\n",
       "      <td>True</td>\n",
       "      <td>True</td>\n",
       "      <td>True</td>\n",
       "      <td>True</td>\n",
       "      <td>True</td>\n",
       "      <td>True</td>\n",
       "    </tr>\n",
       "    <tr>\n",
       "      <th>4</th>\n",
       "      <td>True</td>\n",
       "      <td>True</td>\n",
       "      <td>True</td>\n",
       "      <td>True</td>\n",
       "      <td>True</td>\n",
       "      <td>True</td>\n",
       "      <td>True</td>\n",
       "      <td>True</td>\n",
       "      <td>True</td>\n",
       "      <td>True</td>\n",
       "      <td>...</td>\n",
       "      <td>True</td>\n",
       "      <td>True</td>\n",
       "      <td>True</td>\n",
       "      <td>True</td>\n",
       "      <td>True</td>\n",
       "      <td>True</td>\n",
       "      <td>True</td>\n",
       "      <td>True</td>\n",
       "      <td>True</td>\n",
       "      <td>True</td>\n",
       "    </tr>\n",
       "    <tr>\n",
       "      <th>...</th>\n",
       "      <td>...</td>\n",
       "      <td>...</td>\n",
       "      <td>...</td>\n",
       "      <td>...</td>\n",
       "      <td>...</td>\n",
       "      <td>...</td>\n",
       "      <td>...</td>\n",
       "      <td>...</td>\n",
       "      <td>...</td>\n",
       "      <td>...</td>\n",
       "      <td>...</td>\n",
       "      <td>...</td>\n",
       "      <td>...</td>\n",
       "      <td>...</td>\n",
       "      <td>...</td>\n",
       "      <td>...</td>\n",
       "      <td>...</td>\n",
       "      <td>...</td>\n",
       "      <td>...</td>\n",
       "      <td>...</td>\n",
       "      <td>...</td>\n",
       "    </tr>\n",
       "    <tr>\n",
       "      <th>200</th>\n",
       "      <td>True</td>\n",
       "      <td>True</td>\n",
       "      <td>True</td>\n",
       "      <td>True</td>\n",
       "      <td>True</td>\n",
       "      <td>True</td>\n",
       "      <td>True</td>\n",
       "      <td>True</td>\n",
       "      <td>True</td>\n",
       "      <td>True</td>\n",
       "      <td>...</td>\n",
       "      <td>True</td>\n",
       "      <td>True</td>\n",
       "      <td>True</td>\n",
       "      <td>True</td>\n",
       "      <td>True</td>\n",
       "      <td>True</td>\n",
       "      <td>True</td>\n",
       "      <td>True</td>\n",
       "      <td>True</td>\n",
       "      <td>True</td>\n",
       "    </tr>\n",
       "    <tr>\n",
       "      <th>201</th>\n",
       "      <td>True</td>\n",
       "      <td>True</td>\n",
       "      <td>True</td>\n",
       "      <td>True</td>\n",
       "      <td>True</td>\n",
       "      <td>True</td>\n",
       "      <td>True</td>\n",
       "      <td>True</td>\n",
       "      <td>True</td>\n",
       "      <td>True</td>\n",
       "      <td>...</td>\n",
       "      <td>True</td>\n",
       "      <td>True</td>\n",
       "      <td>True</td>\n",
       "      <td>True</td>\n",
       "      <td>True</td>\n",
       "      <td>True</td>\n",
       "      <td>True</td>\n",
       "      <td>True</td>\n",
       "      <td>True</td>\n",
       "      <td>True</td>\n",
       "    </tr>\n",
       "    <tr>\n",
       "      <th>202</th>\n",
       "      <td>True</td>\n",
       "      <td>True</td>\n",
       "      <td>True</td>\n",
       "      <td>True</td>\n",
       "      <td>True</td>\n",
       "      <td>True</td>\n",
       "      <td>True</td>\n",
       "      <td>True</td>\n",
       "      <td>True</td>\n",
       "      <td>True</td>\n",
       "      <td>...</td>\n",
       "      <td>True</td>\n",
       "      <td>True</td>\n",
       "      <td>True</td>\n",
       "      <td>True</td>\n",
       "      <td>True</td>\n",
       "      <td>True</td>\n",
       "      <td>True</td>\n",
       "      <td>True</td>\n",
       "      <td>True</td>\n",
       "      <td>True</td>\n",
       "    </tr>\n",
       "    <tr>\n",
       "      <th>203</th>\n",
       "      <td>True</td>\n",
       "      <td>True</td>\n",
       "      <td>True</td>\n",
       "      <td>True</td>\n",
       "      <td>True</td>\n",
       "      <td>True</td>\n",
       "      <td>True</td>\n",
       "      <td>True</td>\n",
       "      <td>True</td>\n",
       "      <td>True</td>\n",
       "      <td>...</td>\n",
       "      <td>True</td>\n",
       "      <td>True</td>\n",
       "      <td>True</td>\n",
       "      <td>True</td>\n",
       "      <td>True</td>\n",
       "      <td>True</td>\n",
       "      <td>True</td>\n",
       "      <td>True</td>\n",
       "      <td>True</td>\n",
       "      <td>True</td>\n",
       "    </tr>\n",
       "    <tr>\n",
       "      <th>204</th>\n",
       "      <td>True</td>\n",
       "      <td>True</td>\n",
       "      <td>True</td>\n",
       "      <td>True</td>\n",
       "      <td>True</td>\n",
       "      <td>True</td>\n",
       "      <td>True</td>\n",
       "      <td>True</td>\n",
       "      <td>True</td>\n",
       "      <td>True</td>\n",
       "      <td>...</td>\n",
       "      <td>True</td>\n",
       "      <td>True</td>\n",
       "      <td>True</td>\n",
       "      <td>True</td>\n",
       "      <td>True</td>\n",
       "      <td>True</td>\n",
       "      <td>True</td>\n",
       "      <td>True</td>\n",
       "      <td>True</td>\n",
       "      <td>True</td>\n",
       "    </tr>\n",
       "  </tbody>\n",
       "</table>\n",
       "<p>205 rows × 26 columns</p>\n",
       "</div>"
      ],
      "text/plain": [
       "     car_ID  symboling  CarName  fueltype  aspiration  doornumber  carbody  \\\n",
       "0      True       True     True      True        True        True     True   \n",
       "1      True       True     True      True        True        True     True   \n",
       "2      True       True     True      True        True        True     True   \n",
       "3      True       True     True      True        True        True     True   \n",
       "4      True       True     True      True        True        True     True   \n",
       "..      ...        ...      ...       ...         ...         ...      ...   \n",
       "200    True       True     True      True        True        True     True   \n",
       "201    True       True     True      True        True        True     True   \n",
       "202    True       True     True      True        True        True     True   \n",
       "203    True       True     True      True        True        True     True   \n",
       "204    True       True     True      True        True        True     True   \n",
       "\n",
       "     drivewheel  enginelocation  wheelbase  ...  enginesize  fuelsystem  \\\n",
       "0          True            True       True  ...        True        True   \n",
       "1          True            True       True  ...        True        True   \n",
       "2          True            True       True  ...        True        True   \n",
       "3          True            True       True  ...        True        True   \n",
       "4          True            True       True  ...        True        True   \n",
       "..          ...             ...        ...  ...         ...         ...   \n",
       "200        True            True       True  ...        True        True   \n",
       "201        True            True       True  ...        True        True   \n",
       "202        True            True       True  ...        True        True   \n",
       "203        True            True       True  ...        True        True   \n",
       "204        True            True       True  ...        True        True   \n",
       "\n",
       "     boreratio  stroke  compressionratio  horsepower  peakrpm  citympg  \\\n",
       "0         True    True              True        True     True     True   \n",
       "1         True    True              True        True     True     True   \n",
       "2         True    True              True        True     True     True   \n",
       "3         True    True              True        True     True     True   \n",
       "4         True    True              True        True     True     True   \n",
       "..         ...     ...               ...         ...      ...      ...   \n",
       "200       True    True              True        True     True     True   \n",
       "201       True    True              True        True     True     True   \n",
       "202       True    True              True        True     True     True   \n",
       "203       True    True              True        True     True     True   \n",
       "204       True    True              True        True     True     True   \n",
       "\n",
       "     highwaympg  price  \n",
       "0          True   True  \n",
       "1          True   True  \n",
       "2          True   True  \n",
       "3          True   True  \n",
       "4          True   True  \n",
       "..          ...    ...  \n",
       "200        True   True  \n",
       "201        True   True  \n",
       "202        True   True  \n",
       "203        True   True  \n",
       "204        True   True  \n",
       "\n",
       "[205 rows x 26 columns]"
      ]
     },
     "execution_count": 75,
     "metadata": {},
     "output_type": "execute_result"
    }
   ],
   "source": [
    "pd.notna(data)\n",
    "#Bộ dữ liệu không có giá trị khuyết thiếu"
   ]
  },
  {
   "cell_type": "code",
   "execution_count": 77,
   "id": "b0acf516",
   "metadata": {},
   "outputs": [
    {
     "data": {
      "text/html": [
       "<div>\n",
       "<style scoped>\n",
       "    .dataframe tbody tr th:only-of-type {\n",
       "        vertical-align: middle;\n",
       "    }\n",
       "\n",
       "    .dataframe tbody tr th {\n",
       "        vertical-align: top;\n",
       "    }\n",
       "\n",
       "    .dataframe thead th {\n",
       "        text-align: right;\n",
       "    }\n",
       "</style>\n",
       "<table border=\"1\" class=\"dataframe\">\n",
       "  <thead>\n",
       "    <tr style=\"text-align: right;\">\n",
       "      <th></th>\n",
       "      <th>car_ID</th>\n",
       "      <th>symboling</th>\n",
       "      <th>CarName</th>\n",
       "      <th>fueltype</th>\n",
       "      <th>aspiration</th>\n",
       "      <th>doornumber</th>\n",
       "      <th>carbody</th>\n",
       "      <th>drivewheel</th>\n",
       "      <th>enginelocation</th>\n",
       "      <th>wheelbase</th>\n",
       "      <th>...</th>\n",
       "      <th>enginesize</th>\n",
       "      <th>fuelsystem</th>\n",
       "      <th>boreratio</th>\n",
       "      <th>stroke</th>\n",
       "      <th>compressionratio</th>\n",
       "      <th>horsepower</th>\n",
       "      <th>peakrpm</th>\n",
       "      <th>citympg</th>\n",
       "      <th>highwaympg</th>\n",
       "      <th>price</th>\n",
       "    </tr>\n",
       "  </thead>\n",
       "  <tbody>\n",
       "    <tr>\n",
       "      <th>0</th>\n",
       "      <td>1</td>\n",
       "      <td>3</td>\n",
       "      <td>alfa-romero giulia</td>\n",
       "      <td>gas</td>\n",
       "      <td>std</td>\n",
       "      <td>two</td>\n",
       "      <td>convertible</td>\n",
       "      <td>rwd</td>\n",
       "      <td>front</td>\n",
       "      <td>88.6</td>\n",
       "      <td>...</td>\n",
       "      <td>130</td>\n",
       "      <td>mpfi</td>\n",
       "      <td>3.47</td>\n",
       "      <td>2.68</td>\n",
       "      <td>9.0</td>\n",
       "      <td>111</td>\n",
       "      <td>5000</td>\n",
       "      <td>21</td>\n",
       "      <td>27</td>\n",
       "      <td>13495.0</td>\n",
       "    </tr>\n",
       "    <tr>\n",
       "      <th>1</th>\n",
       "      <td>2</td>\n",
       "      <td>3</td>\n",
       "      <td>alfa-romero stelvio</td>\n",
       "      <td>gas</td>\n",
       "      <td>std</td>\n",
       "      <td>two</td>\n",
       "      <td>convertible</td>\n",
       "      <td>rwd</td>\n",
       "      <td>front</td>\n",
       "      <td>88.6</td>\n",
       "      <td>...</td>\n",
       "      <td>130</td>\n",
       "      <td>mpfi</td>\n",
       "      <td>3.47</td>\n",
       "      <td>2.68</td>\n",
       "      <td>9.0</td>\n",
       "      <td>111</td>\n",
       "      <td>5000</td>\n",
       "      <td>21</td>\n",
       "      <td>27</td>\n",
       "      <td>16500.0</td>\n",
       "    </tr>\n",
       "    <tr>\n",
       "      <th>2</th>\n",
       "      <td>3</td>\n",
       "      <td>1</td>\n",
       "      <td>alfa-romero Quadrifoglio</td>\n",
       "      <td>gas</td>\n",
       "      <td>std</td>\n",
       "      <td>two</td>\n",
       "      <td>hatchback</td>\n",
       "      <td>rwd</td>\n",
       "      <td>front</td>\n",
       "      <td>94.5</td>\n",
       "      <td>...</td>\n",
       "      <td>152</td>\n",
       "      <td>mpfi</td>\n",
       "      <td>2.68</td>\n",
       "      <td>3.47</td>\n",
       "      <td>9.0</td>\n",
       "      <td>154</td>\n",
       "      <td>5000</td>\n",
       "      <td>19</td>\n",
       "      <td>26</td>\n",
       "      <td>16500.0</td>\n",
       "    </tr>\n",
       "  </tbody>\n",
       "</table>\n",
       "<p>3 rows × 26 columns</p>\n",
       "</div>"
      ],
      "text/plain": [
       "   car_ID  symboling                   CarName fueltype aspiration doornumber  \\\n",
       "0       1          3        alfa-romero giulia      gas        std        two   \n",
       "1       2          3       alfa-romero stelvio      gas        std        two   \n",
       "2       3          1  alfa-romero Quadrifoglio      gas        std        two   \n",
       "\n",
       "       carbody drivewheel enginelocation  wheelbase  ...  enginesize  \\\n",
       "0  convertible        rwd          front       88.6  ...         130   \n",
       "1  convertible        rwd          front       88.6  ...         130   \n",
       "2    hatchback        rwd          front       94.5  ...         152   \n",
       "\n",
       "   fuelsystem  boreratio  stroke compressionratio horsepower  peakrpm citympg  \\\n",
       "0        mpfi       3.47    2.68              9.0        111     5000      21   \n",
       "1        mpfi       3.47    2.68              9.0        111     5000      21   \n",
       "2        mpfi       2.68    3.47              9.0        154     5000      19   \n",
       "\n",
       "   highwaympg    price  \n",
       "0          27  13495.0  \n",
       "1          27  16500.0  \n",
       "2          26  16500.0  \n",
       "\n",
       "[3 rows x 26 columns]"
      ]
     },
     "execution_count": 77,
     "metadata": {},
     "output_type": "execute_result"
    }
   ],
   "source": [
    "data[(data['CarName'] == 'alfa-romero giulia') | (data['CarName'] == 'alfa-romero Quadrifoglio') | (data['CarName'] == 'alfa-romero stelvio')]"
   ]
  },
  {
   "cell_type": "code",
   "execution_count": 78,
   "id": "65d191c4",
   "metadata": {},
   "outputs": [
    {
     "data": {
      "text/html": [
       "<div>\n",
       "<style scoped>\n",
       "    .dataframe tbody tr th:only-of-type {\n",
       "        vertical-align: middle;\n",
       "    }\n",
       "\n",
       "    .dataframe tbody tr th {\n",
       "        vertical-align: top;\n",
       "    }\n",
       "\n",
       "    .dataframe thead th {\n",
       "        text-align: right;\n",
       "    }\n",
       "</style>\n",
       "<table border=\"1\" class=\"dataframe\">\n",
       "  <thead>\n",
       "    <tr style=\"text-align: right;\">\n",
       "      <th></th>\n",
       "      <th>0</th>\n",
       "      <th>1</th>\n",
       "      <th>2</th>\n",
       "      <th>3</th>\n",
       "      <th>4</th>\n",
       "    </tr>\n",
       "  </thead>\n",
       "  <tbody>\n",
       "    <tr>\n",
       "      <th>0</th>\n",
       "      <td>alfa-romero</td>\n",
       "      <td>giulia</td>\n",
       "      <td>None</td>\n",
       "      <td>None</td>\n",
       "      <td>None</td>\n",
       "    </tr>\n",
       "    <tr>\n",
       "      <th>1</th>\n",
       "      <td>alfa-romero</td>\n",
       "      <td>stelvio</td>\n",
       "      <td>None</td>\n",
       "      <td>None</td>\n",
       "      <td>None</td>\n",
       "    </tr>\n",
       "    <tr>\n",
       "      <th>2</th>\n",
       "      <td>alfa-romero</td>\n",
       "      <td>Quadrifoglio</td>\n",
       "      <td>None</td>\n",
       "      <td>None</td>\n",
       "      <td>None</td>\n",
       "    </tr>\n",
       "    <tr>\n",
       "      <th>3</th>\n",
       "      <td>audi</td>\n",
       "      <td>100</td>\n",
       "      <td>ls</td>\n",
       "      <td>None</td>\n",
       "      <td>None</td>\n",
       "    </tr>\n",
       "    <tr>\n",
       "      <th>4</th>\n",
       "      <td>audi</td>\n",
       "      <td>100ls</td>\n",
       "      <td>None</td>\n",
       "      <td>None</td>\n",
       "      <td>None</td>\n",
       "    </tr>\n",
       "    <tr>\n",
       "      <th>...</th>\n",
       "      <td>...</td>\n",
       "      <td>...</td>\n",
       "      <td>...</td>\n",
       "      <td>...</td>\n",
       "      <td>...</td>\n",
       "    </tr>\n",
       "    <tr>\n",
       "      <th>200</th>\n",
       "      <td>volvo</td>\n",
       "      <td>145e</td>\n",
       "      <td>(sw)</td>\n",
       "      <td>None</td>\n",
       "      <td>None</td>\n",
       "    </tr>\n",
       "    <tr>\n",
       "      <th>201</th>\n",
       "      <td>volvo</td>\n",
       "      <td>144ea</td>\n",
       "      <td>None</td>\n",
       "      <td>None</td>\n",
       "      <td>None</td>\n",
       "    </tr>\n",
       "    <tr>\n",
       "      <th>202</th>\n",
       "      <td>volvo</td>\n",
       "      <td>244dl</td>\n",
       "      <td>None</td>\n",
       "      <td>None</td>\n",
       "      <td>None</td>\n",
       "    </tr>\n",
       "    <tr>\n",
       "      <th>203</th>\n",
       "      <td>volvo</td>\n",
       "      <td>246</td>\n",
       "      <td>None</td>\n",
       "      <td>None</td>\n",
       "      <td>None</td>\n",
       "    </tr>\n",
       "    <tr>\n",
       "      <th>204</th>\n",
       "      <td>volvo</td>\n",
       "      <td>264gl</td>\n",
       "      <td>None</td>\n",
       "      <td>None</td>\n",
       "      <td>None</td>\n",
       "    </tr>\n",
       "  </tbody>\n",
       "</table>\n",
       "<p>205 rows × 5 columns</p>\n",
       "</div>"
      ],
      "text/plain": [
       "               0             1     2     3     4\n",
       "0    alfa-romero        giulia  None  None  None\n",
       "1    alfa-romero       stelvio  None  None  None\n",
       "2    alfa-romero  Quadrifoglio  None  None  None\n",
       "3           audi           100    ls  None  None\n",
       "4           audi         100ls  None  None  None\n",
       "..           ...           ...   ...   ...   ...\n",
       "200        volvo          145e  (sw)  None  None\n",
       "201        volvo         144ea  None  None  None\n",
       "202        volvo         244dl  None  None  None\n",
       "203        volvo           246  None  None  None\n",
       "204        volvo         264gl  None  None  None\n",
       "\n",
       "[205 rows x 5 columns]"
      ]
     },
     "execution_count": 78,
     "metadata": {},
     "output_type": "execute_result"
    }
   ],
   "source": [
    "brand = data['CarName'].str.split(expand=True)\n",
    "brand"
   ]
  },
  {
   "cell_type": "code",
   "execution_count": 335,
   "id": "2851dc4b",
   "metadata": {},
   "outputs": [
    {
     "data": {
      "text/plain": [
       "array(['alfa-romero', 'audi', 'bmw', 'chevrolet', 'dodge', 'honda',\n",
       "       'isuzu', 'jaguar', 'maxda', 'mazda', 'buick', 'mercury',\n",
       "       'mitsubishi', 'Nissan', 'nissan', 'peugeot', 'plymouth', 'porsche',\n",
       "       'porcshce', 'renault', 'saab', 'subaru', 'toyota', 'toyouta',\n",
       "       'vokswagen', 'volkswagen', 'vw', 'volvo'], dtype=object)"
      ]
     },
     "execution_count": 335,
     "metadata": {},
     "output_type": "execute_result"
    }
   ],
   "source": [
    "final_data['BrandName'].unique()"
   ]
  },
  {
   "cell_type": "code",
   "execution_count": 690,
   "id": "6e87eff4",
   "metadata": {},
   "outputs": [
    {
     "data": {
      "text/plain": [
       "array(['alfa-romero', 'audi', 'bmw', 'chevrolet', 'dodge', 'honda',\n",
       "       'isuzu', 'jaguar', 'mazda', 'buick', 'mercury', 'mitsubishi',\n",
       "       'Nissan', 'peugeot', 'plymouth', 'porsche', 'renault', 'saab',\n",
       "       'subaru', 'toyota', 'volkswagen', 'volvo'], dtype=object)"
      ]
     },
     "execution_count": 690,
     "metadata": {},
     "output_type": "execute_result"
    }
   ],
   "source": [
    "final_data.replace('nissan', 'Nissan', inplace=True)\n",
    "final_data.replace('porcshce', 'porsche', inplace=True)\n",
    "final_data.replace('toyouta', 'toyota', inplace=True)\n",
    "final_data.replace('vokswagen', 'volkswagen', inplace=True)\n",
    "final_data.replace('vw', 'volkswagen', inplace=True)\n",
    "final_data.replace('maxda', 'mazda', inplace=True)\n",
    "final_data['BrandName'].unique()"
   ]
  },
  {
   "cell_type": "markdown",
   "id": "57cc5e93",
   "metadata": {},
   "source": [
    "**MÃ HOÁ CÁC CỘT DỮ LIỆU"
   ]
  },
  {
   "cell_type": "code",
   "execution_count": 693,
   "id": "b160f674",
   "metadata": {},
   "outputs": [
    {
     "data": {
      "text/plain": [
       "array([ 1,  1,  1,  2,  2,  2,  2,  2,  2,  2,  3,  3,  3,  3,  3,  3,  3,\n",
       "        3,  5,  5,  5,  6,  6,  6,  6,  6,  6,  6,  6,  6,  7,  7,  7,  7,\n",
       "        7,  7,  7,  7,  7,  7,  7,  7,  7,  8,  8,  8,  8,  9,  9,  9, 10,\n",
       "       10, 10, 10, 10, 10, 10, 10, 10, 10, 10, 10, 10, 10, 10, 10, 10,  4,\n",
       "        4,  4,  4,  4,  4,  4,  4, 11, 12, 12, 12, 12, 12, 12, 12, 12, 12,\n",
       "       12, 12, 12, 12,  0,  0,  0,  0,  0,  0,  0,  0,  0,  0,  0,  0,  0,\n",
       "        0,  0,  0,  0,  0, 13, 13, 13, 13, 13, 13, 13, 13, 13, 13, 13, 14,\n",
       "       14, 14, 14, 14, 14, 14, 15, 15, 15, 15, 15, 16, 16, 17, 17, 17, 17,\n",
       "       17, 17, 18, 18, 18, 18, 18, 18, 18, 18, 18, 18, 18, 18, 19, 19, 19,\n",
       "       19, 19, 19, 19, 19, 19, 19, 19, 19, 19, 19, 19, 19, 19, 19, 19, 19,\n",
       "       19, 19, 19, 19, 19, 19, 19, 19, 19, 19, 19, 19, 20, 20, 20, 20, 20,\n",
       "       20, 20, 20, 20, 20, 20, 20, 21, 21, 21, 21, 21, 21, 21, 21, 21, 21,\n",
       "       21])"
      ]
     },
     "execution_count": 693,
     "metadata": {},
     "output_type": "execute_result"
    }
   ],
   "source": [
    "#Mã hoá dữ liệu hãng xe\n",
    "from sklearn.preprocessing import LabelEncoder\n",
    "encoder = LabelEncoder()\n",
    "BrandCode = encoder.fit_transform(final_data['BrandName'].values)\n",
    "BrandCode"
   ]
  },
  {
   "cell_type": "code",
   "execution_count": 694,
   "id": "cf948d4c",
   "metadata": {},
   "outputs": [
    {
     "data": {
      "text/plain": [
       "array(['alfa-romero', 'alfa-romero', 'alfa-romero', 'audi', 'audi',\n",
       "       'audi', 'audi', 'audi', 'audi', 'audi', 'bmw', 'bmw', 'bmw', 'bmw',\n",
       "       'bmw', 'bmw', 'bmw', 'bmw', 'chevrolet', 'chevrolet', 'chevrolet',\n",
       "       'dodge', 'dodge', 'dodge', 'dodge', 'dodge', 'dodge', 'dodge',\n",
       "       'dodge', 'dodge', 'honda', 'honda', 'honda', 'honda', 'honda',\n",
       "       'honda', 'honda', 'honda', 'honda', 'honda', 'honda', 'honda',\n",
       "       'honda', 'isuzu', 'isuzu', 'isuzu', 'isuzu', 'jaguar', 'jaguar',\n",
       "       'jaguar', 'mazda', 'mazda', 'mazda', 'mazda', 'mazda', 'mazda',\n",
       "       'mazda', 'mazda', 'mazda', 'mazda', 'mazda', 'mazda', 'mazda',\n",
       "       'mazda', 'mazda', 'mazda', 'mazda', 'buick', 'buick', 'buick',\n",
       "       'buick', 'buick', 'buick', 'buick', 'buick', 'mercury',\n",
       "       'mitsubishi', 'mitsubishi', 'mitsubishi', 'mitsubishi',\n",
       "       'mitsubishi', 'mitsubishi', 'mitsubishi', 'mitsubishi',\n",
       "       'mitsubishi', 'mitsubishi', 'mitsubishi', 'mitsubishi',\n",
       "       'mitsubishi', 'Nissan', 'Nissan', 'Nissan', 'Nissan', 'Nissan',\n",
       "       'Nissan', 'Nissan', 'Nissan', 'Nissan', 'Nissan', 'Nissan',\n",
       "       'Nissan', 'Nissan', 'Nissan', 'Nissan', 'Nissan', 'Nissan',\n",
       "       'Nissan', 'peugeot', 'peugeot', 'peugeot', 'peugeot', 'peugeot',\n",
       "       'peugeot', 'peugeot', 'peugeot', 'peugeot', 'peugeot', 'peugeot',\n",
       "       'plymouth', 'plymouth', 'plymouth', 'plymouth', 'plymouth',\n",
       "       'plymouth', 'plymouth', 'porsche', 'porsche', 'porsche', 'porsche',\n",
       "       'porsche', 'renault', 'renault', 'saab', 'saab', 'saab', 'saab',\n",
       "       'saab', 'saab', 'subaru', 'subaru', 'subaru', 'subaru', 'subaru',\n",
       "       'subaru', 'subaru', 'subaru', 'subaru', 'subaru', 'subaru',\n",
       "       'subaru', 'toyota', 'toyota', 'toyota', 'toyota', 'toyota',\n",
       "       'toyota', 'toyota', 'toyota', 'toyota', 'toyota', 'toyota',\n",
       "       'toyota', 'toyota', 'toyota', 'toyota', 'toyota', 'toyota',\n",
       "       'toyota', 'toyota', 'toyota', 'toyota', 'toyota', 'toyota',\n",
       "       'toyota', 'toyota', 'toyota', 'toyota', 'toyota', 'toyota',\n",
       "       'toyota', 'toyota', 'toyota', 'volkswagen', 'volkswagen',\n",
       "       'volkswagen', 'volkswagen', 'volkswagen', 'volkswagen',\n",
       "       'volkswagen', 'volkswagen', 'volkswagen', 'volkswagen',\n",
       "       'volkswagen', 'volkswagen', 'volvo', 'volvo', 'volvo', 'volvo',\n",
       "       'volvo', 'volvo', 'volvo', 'volvo', 'volvo', 'volvo', 'volvo'],\n",
       "      dtype=object)"
      ]
     },
     "execution_count": 694,
     "metadata": {},
     "output_type": "execute_result"
    }
   ],
   "source": [
    "encoder = LabelEncoder()\n",
    "BrandCode = encoder.fit_transform(final_data['BrandName'].values)\n",
    "name = encoder.inverse_transform(BrandCode)\n",
    "name"
   ]
  },
  {
   "cell_type": "code",
   "execution_count": 629,
   "id": "d7d444ed",
   "metadata": {},
   "outputs": [
    {
     "data": {
      "text/plain": [
       "array([1, 1, 1, 1, 1, 1, 1, 1, 1, 1, 1, 1, 1, 1, 1, 1, 1, 1, 1, 1, 1, 1,\n",
       "       1, 1, 1, 1, 1, 1, 1, 1, 1, 1, 1, 1, 1, 1, 1, 1, 1, 1, 1, 1, 1, 1,\n",
       "       1, 1, 1, 1, 1, 1, 1, 1, 1, 1, 1, 1, 1, 1, 1, 1, 1, 1, 1, 0, 1, 1,\n",
       "       0, 0, 0, 0, 0, 1, 1, 1, 1, 1, 1, 1, 1, 1, 1, 1, 1, 1, 1, 1, 1, 1,\n",
       "       1, 1, 0, 1, 1, 1, 1, 1, 1, 1, 1, 1, 1, 1, 1, 1, 1, 1, 1, 1, 0, 1,\n",
       "       0, 1, 0, 1, 0, 1, 0, 1, 1, 1, 1, 1, 1, 1, 1, 1, 1, 1, 1, 1, 1, 1,\n",
       "       1, 1, 1, 1, 1, 1, 1, 1, 1, 1, 1, 1, 1, 1, 1, 1, 1, 1, 1, 1, 1, 1,\n",
       "       1, 1, 1, 1, 0, 0, 1, 1, 1, 1, 1, 1, 1, 1, 1, 1, 1, 1, 1, 1, 0, 1,\n",
       "       1, 1, 1, 1, 1, 1, 0, 1, 0, 1, 1, 0, 1, 1, 1, 1, 0, 1, 1, 1, 1, 1,\n",
       "       1, 1, 1, 1, 1, 0, 1])"
      ]
     },
     "execution_count": 629,
     "metadata": {},
     "output_type": "execute_result"
    }
   ],
   "source": [
    "#Mã hoá dữ liệu loại động cơ. gas=1, diesel=0\n",
    "from sklearn.preprocessing import LabelEncoder\n",
    "encoder = LabelEncoder()\n",
    "fuel_type = encoder.fit_transform(final_data['fueltype'].values)\n",
    "fuel_type"
   ]
  },
  {
   "cell_type": "code",
   "execution_count": 631,
   "id": "36888d4b",
   "metadata": {},
   "outputs": [
    {
     "data": {
      "text/plain": [
       "array([0, 0, 0, 0, 0, 0, 0, 0, 1, 1, 0, 0, 0, 0, 0, 0, 0, 0, 0, 0, 0, 0,\n",
       "       0, 1, 0, 0, 0, 1, 0, 1, 0, 0, 0, 0, 0, 0, 0, 0, 0, 0, 0, 0, 0, 0,\n",
       "       0, 0, 0, 0, 0, 0, 0, 0, 0, 0, 0, 0, 0, 0, 0, 0, 0, 0, 0, 0, 0, 0,\n",
       "       0, 1, 1, 1, 1, 0, 0, 0, 0, 1, 0, 0, 0, 1, 1, 0, 1, 1, 1, 0, 0, 1,\n",
       "       0, 0, 0, 0, 0, 0, 0, 0, 0, 0, 0, 0, 0, 0, 0, 0, 0, 1, 0, 0, 1, 0,\n",
       "       1, 0, 1, 0, 1, 0, 1, 1, 0, 1, 0, 0, 0, 0, 1, 0, 0, 0, 0, 0, 0, 0,\n",
       "       0, 0, 0, 0, 1, 1, 0, 0, 0, 0, 0, 0, 0, 1, 0, 0, 0, 1, 0, 0, 0, 0,\n",
       "       0, 0, 0, 0, 0, 0, 0, 0, 0, 0, 0, 0, 0, 0, 0, 0, 0, 0, 0, 0, 1, 0,\n",
       "       0, 0, 0, 0, 0, 0, 0, 0, 0, 0, 0, 1, 0, 0, 0, 0, 1, 0, 0, 0, 0, 0,\n",
       "       1, 1, 0, 1, 0, 1, 1])"
      ]
     },
     "execution_count": 631,
     "metadata": {},
     "output_type": "execute_result"
    }
   ],
   "source": [
    "#Mã hoá dữ liệu loại hút. std=0, turbo=1\n",
    "encoder = LabelEncoder()\n",
    "aspiration_type = encoder.fit_transform(final_data['aspiration'].values)\n",
    "aspiration_type"
   ]
  },
  {
   "cell_type": "code",
   "execution_count": 632,
   "id": "3fba0b43",
   "metadata": {},
   "outputs": [
    {
     "data": {
      "text/plain": [
       "array([1, 1, 1, 0, 0, 1, 0, 0, 0, 1, 1, 0, 1, 0, 0, 0, 1, 0, 1, 1, 0, 1,\n",
       "       1, 1, 0, 0, 0, 1, 0, 1, 1, 1, 1, 1, 1, 0, 0, 1, 1, 0, 0, 0, 1, 0,\n",
       "       1, 0, 1, 0, 0, 1, 1, 1, 1, 0, 0, 1, 1, 1, 1, 1, 0, 1, 0, 0, 0, 0,\n",
       "       0, 0, 0, 1, 0, 0, 1, 0, 1, 1, 1, 1, 1, 1, 1, 1, 1, 1, 1, 0, 0, 0,\n",
       "       0, 1, 1, 1, 0, 0, 1, 1, 0, 0, 1, 0, 0, 0, 0, 0, 1, 1, 1, 0, 0, 0,\n",
       "       0, 0, 0, 0, 0, 0, 0, 0, 1, 1, 0, 0, 0, 0, 1, 1, 1, 1, 1, 1, 0, 1,\n",
       "       1, 0, 1, 0, 1, 0, 1, 1, 1, 0, 0, 0, 0, 0, 0, 0, 0, 0, 1, 1, 0, 0,\n",
       "       0, 0, 0, 0, 0, 0, 0, 0, 0, 1, 1, 1, 1, 1, 1, 1, 1, 1, 1, 0, 0, 0,\n",
       "       0, 0, 1, 1, 0, 0, 1, 1, 0, 0, 0, 0, 0, 1, 1, 0, 0, 0, 0, 0, 0, 0,\n",
       "       0, 0, 0, 0, 0, 0, 0])"
      ]
     },
     "execution_count": 632,
     "metadata": {},
     "output_type": "execute_result"
    }
   ],
   "source": [
    "#Mã hoá dữ liệu số cửa. two=1, four=0\n",
    "encoder = LabelEncoder()\n",
    "door_number = encoder.fit_transform(final_data['doornumber'].values)\n",
    "door_number"
   ]
  },
  {
   "cell_type": "code",
   "execution_count": null,
   "id": "d38f06d3",
   "metadata": {},
   "outputs": [],
   "source": [
    "#Mã hoá dữ liệu số cửa. two=1, four=0\n",
    "encoder = LabelEncoder()\n",
    "door_number = encoder.fit_transform(final_data['doornumber'].values)\n",
    "door_number"
   ]
  },
  {
   "cell_type": "code",
   "execution_count": 639,
   "id": "57aea94b",
   "metadata": {},
   "outputs": [
    {
     "data": {
      "text/plain": [
       "array(['front', 'rear'], dtype=object)"
      ]
     },
     "execution_count": 639,
     "metadata": {},
     "output_type": "execute_result"
    }
   ],
   "source": [
    "final_data.enginelocation.unique()"
   ]
  },
  {
   "cell_type": "code",
   "execution_count": 634,
   "id": "26862b37",
   "metadata": {},
   "outputs": [
    {
     "data": {
      "text/plain": [
       "array([0, 0, 2, 3, 3, 3, 3, 4, 3, 2, 3, 3, 3, 3, 3, 3, 3, 3, 2, 2, 3, 2,\n",
       "       2, 2, 2, 3, 3, 3, 4, 2, 2, 2, 2, 2, 2, 3, 4, 2, 2, 3, 3, 3, 3, 3,\n",
       "       3, 3, 2, 3, 3, 3, 2, 2, 2, 3, 3, 2, 2, 2, 2, 2, 3, 2, 3, 3, 2, 3,\n",
       "       3, 3, 4, 1, 3, 3, 0, 3, 1, 2, 2, 2, 2, 2, 2, 2, 2, 2, 2, 3, 3, 3,\n",
       "       3, 3, 3, 3, 3, 4, 3, 2, 3, 4, 1, 2, 3, 3, 4, 3, 2, 2, 2, 3, 3, 4,\n",
       "       4, 3, 3, 4, 4, 3, 3, 3, 2, 2, 2, 3, 3, 4, 2, 2, 1, 1, 0, 2, 4, 2,\n",
       "       2, 3, 2, 3, 2, 3, 2, 2, 2, 3, 3, 3, 3, 3, 4, 4, 4, 4, 2, 2, 2, 4,\n",
       "       4, 4, 3, 2, 3, 2, 3, 2, 3, 3, 2, 3, 2, 1, 1, 2, 1, 2, 0, 3, 3, 2,\n",
       "       3, 2, 2, 2, 3, 4, 3, 3, 3, 3, 3, 3, 3, 0, 2, 3, 3, 4, 3, 4, 3, 4,\n",
       "       3, 4, 3, 3, 3, 3, 3])"
      ]
     },
     "execution_count": 634,
     "metadata": {},
     "output_type": "execute_result"
    }
   ],
   "source": [
    "#Mã hoá dữ liệu loại thân xe. convertible=0, hatchback=2, sedan=3, wagon=4, hardtop=1\n",
    "encoder = LabelEncoder()\n",
    "carbody_type = encoder.fit_transform(final_data['carbody'].values)\n",
    "carbody_type"
   ]
  },
  {
   "cell_type": "code",
   "execution_count": 636,
   "id": "b1e62fdf",
   "metadata": {},
   "outputs": [
    {
     "data": {
      "text/plain": [
       "array([2, 2, 2, 1, 0, 1, 1, 1, 1, 0, 2, 2, 2, 2, 2, 2, 2, 2, 1, 1, 1, 1,\n",
       "       1, 1, 1, 1, 1, 1, 1, 1, 1, 1, 1, 1, 1, 1, 1, 1, 1, 1, 1, 1, 1, 2,\n",
       "       1, 1, 2, 2, 2, 2, 1, 1, 1, 1, 1, 2, 2, 2, 2, 1, 1, 1, 1, 1, 1, 2,\n",
       "       2, 2, 2, 2, 2, 2, 2, 2, 2, 2, 1, 1, 1, 1, 1, 1, 1, 1, 1, 1, 1, 1,\n",
       "       1, 1, 1, 1, 1, 1, 1, 1, 1, 1, 1, 1, 1, 1, 1, 1, 2, 2, 2, 2, 2, 2,\n",
       "       2, 2, 2, 2, 2, 2, 2, 2, 1, 1, 1, 1, 1, 1, 2, 2, 2, 2, 2, 2, 1, 1,\n",
       "       1, 1, 1, 1, 1, 1, 1, 1, 0, 1, 1, 1, 0, 0, 1, 1, 0, 0, 1, 1, 1, 1,\n",
       "       0, 0, 1, 1, 1, 1, 1, 1, 1, 2, 2, 2, 2, 2, 2, 2, 2, 2, 2, 1, 1, 1,\n",
       "       1, 1, 2, 2, 2, 2, 1, 1, 1, 1, 1, 1, 1, 1, 1, 1, 1, 1, 2, 2, 2, 2,\n",
       "       2, 2, 2, 2, 2, 2, 2])"
      ]
     },
     "execution_count": 636,
     "metadata": {},
     "output_type": "execute_result"
    }
   ],
   "source": [
    "#Mã hoá dữ liệu loại truyền động. 4wd=0, fwd=1, rwd=2\n",
    "encoder = LabelEncoder()\n",
    "drive_wheel_type = encoder.fit_transform(final_data['drivewheel'].values)\n",
    "drive_wheel_type"
   ]
  },
  {
   "cell_type": "code",
   "execution_count": 638,
   "id": "6aaf3f1d",
   "metadata": {},
   "outputs": [
    {
     "data": {
      "text/plain": [
       "array([0, 0, 0, 0, 0, 0, 0, 0, 0, 0, 0, 0, 0, 0, 0, 0, 0, 0, 0, 0, 0, 0,\n",
       "       0, 0, 0, 0, 0, 0, 0, 0, 0, 0, 0, 0, 0, 0, 0, 0, 0, 0, 0, 0, 0, 0,\n",
       "       0, 0, 0, 0, 0, 0, 0, 0, 0, 0, 0, 0, 0, 0, 0, 0, 0, 0, 0, 0, 0, 0,\n",
       "       0, 0, 0, 0, 0, 0, 0, 0, 0, 0, 0, 0, 0, 0, 0, 0, 0, 0, 0, 0, 0, 0,\n",
       "       0, 0, 0, 0, 0, 0, 0, 0, 0, 0, 0, 0, 0, 0, 0, 0, 0, 0, 0, 0, 0, 0,\n",
       "       0, 0, 0, 0, 0, 0, 0, 0, 0, 0, 0, 0, 0, 0, 0, 0, 1, 1, 1, 0, 0, 0,\n",
       "       0, 0, 0, 0, 0, 0, 0, 0, 0, 0, 0, 0, 0, 0, 0, 0, 0, 0, 0, 0, 0, 0,\n",
       "       0, 0, 0, 0, 0, 0, 0, 0, 0, 0, 0, 0, 0, 0, 0, 0, 0, 0, 0, 0, 0, 0,\n",
       "       0, 0, 0, 0, 0, 0, 0, 0, 0, 0, 0, 0, 0, 0, 0, 0, 0, 0, 0, 0, 0, 0,\n",
       "       0, 0, 0, 0, 0, 0, 0])"
      ]
     },
     "execution_count": 638,
     "metadata": {},
     "output_type": "execute_result"
    }
   ],
   "source": [
    "#Mã hoá dữ liệu vị trí động cơ. front=01, rear=1\n",
    "encoder = LabelEncoder()\n",
    "engine_location = encoder.fit_transform(final_data['enginelocation'].values)\n",
    "engine_location"
   ]
  },
  {
   "cell_type": "code",
   "execution_count": 527,
   "id": "99a30ec0",
   "metadata": {},
   "outputs": [
    {
     "data": {
      "text/plain": [
       "0      (10300, 16600]\n",
       "1      (10300, 16600]\n",
       "2      (10300, 16600]\n",
       "3      (10300, 16600]\n",
       "4      (16600, 23000]\n",
       "            ...      \n",
       "200    (16600, 23000]\n",
       "201    (16600, 23000]\n",
       "202    (16600, 23000]\n",
       "203    (16600, 23000]\n",
       "204    (16600, 23000]\n",
       "Name: price, Length: 205, dtype: category\n",
       "Categories (7, interval[int64, right]): [(5100, 7800] < (7800, 10300] < (10300, 16600] < (16600, 23000] < (23000, 30000] < (30000, 40000] < (40000, 45500]]"
      ]
     },
     "execution_count": 527,
     "metadata": {},
     "output_type": "execute_result"
    }
   ],
   "source": [
    "#Giá xe nằm trong các khoảng sau:\n",
    "car_price = final_data['price']\n",
    "bins = (5100, 7800, 10300, 16600, 23000, 30000, 40000, 45500)\n",
    "price_range = pd.cut(car_price, bins)\n",
    "str(price_range)\n",
    "price_range"
   ]
  },
  {
   "cell_type": "code",
   "execution_count": 542,
   "id": "df629737",
   "metadata": {},
   "outputs": [
    {
     "data": {
      "text/plain": [
       "0      (10300, 16600]\n",
       "1      (10300, 16600]\n",
       "2      (10300, 16600]\n",
       "3      (10300, 16600]\n",
       "4      (16600, 23000]\n",
       "            ...      \n",
       "200    (16600, 23000]\n",
       "201    (16600, 23000]\n",
       "202    (16600, 23000]\n",
       "203    (16600, 23000]\n",
       "204    (16600, 23000]\n",
       "Name: PriceRange, Length: 205, dtype: category\n",
       "Categories (7, interval[int64, right]): [(5100, 7800] < (7800, 10300] < (10300, 16600] < (16600, 23000] < (23000, 30000] < (30000, 40000] < (40000, 45500]]"
      ]
     },
     "execution_count": 542,
     "metadata": {},
     "output_type": "execute_result"
    }
   ],
   "source": [
    "final_data.PriceRange"
   ]
  },
  {
   "cell_type": "code",
   "execution_count": 543,
   "id": "7c3c1856",
   "metadata": {},
   "outputs": [
    {
     "data": {
      "text/plain": [
       "0      2\n",
       "1      2\n",
       "2      2\n",
       "3      2\n",
       "4      3\n",
       "      ..\n",
       "200    3\n",
       "201    3\n",
       "202    3\n",
       "203    3\n",
       "204    3\n",
       "Length: 205, dtype: int8"
      ]
     },
     "execution_count": 543,
     "metadata": {},
     "output_type": "execute_result"
    }
   ],
   "source": [
    "PriceClass = final_data['PriceRange'].astype('category').cat.codes\n",
    "PriceClass"
   ]
  },
  {
   "cell_type": "code",
   "execution_count": 725,
   "id": "ba6e4ea8",
   "metadata": {},
   "outputs": [
    {
     "data": {
      "text/plain": [
       "array([2, 3, 4, 5, 6, 0, 1], dtype=int8)"
      ]
     },
     "execution_count": 725,
     "metadata": {},
     "output_type": "execute_result"
    }
   ],
   "source": [
    "PriceClass.unique()"
   ]
  },
  {
   "cell_type": "code",
   "execution_count": 440,
   "id": "87732274",
   "metadata": {},
   "outputs": [
    {
     "data": {
      "text/plain": [
       "0      (4800, 5200]\n",
       "1      (4800, 5200]\n",
       "2      (4800, 5200]\n",
       "3      (5200, 5500]\n",
       "4      (5200, 5500]\n",
       "           ...     \n",
       "200    (5200, 5500]\n",
       "201    (5200, 5500]\n",
       "202    (5200, 5500]\n",
       "203    (4200, 4800]\n",
       "204    (5200, 5500]\n",
       "Name: peakrpm, Length: 205, dtype: category\n",
       "Categories (4, interval[int64, right]): [(4200, 4800] < (4800, 5200] < (5200, 5500] < (5500, 6600]]"
      ]
     },
     "execution_count": 440,
     "metadata": {},
     "output_type": "execute_result"
    }
   ],
   "source": [
    "peakrpm = final_data['peakrpm']\n",
    "bins = (4200, 4800, 5200, 5500, 6600)\n",
    "peak_rpm= pd.cut(peakrpm, bins)\n",
    "peak_rpm"
   ]
  },
  {
   "cell_type": "code",
   "execution_count": 441,
   "id": "77a92139",
   "metadata": {},
   "outputs": [
    {
     "data": {
      "text/plain": [
       "0      1\n",
       "1      1\n",
       "2      1\n",
       "3      2\n",
       "4      2\n",
       "      ..\n",
       "200    2\n",
       "201    2\n",
       "202    2\n",
       "203    0\n",
       "204    2\n",
       "Length: 205, dtype: int8"
      ]
     },
     "execution_count": 441,
     "metadata": {},
     "output_type": "execute_result"
    }
   ],
   "source": [
    "PeakClass = peak_rpm.astype('category').cat.codes\n",
    "PeakClass"
   ]
  },
  {
   "cell_type": "code",
   "execution_count": 442,
   "id": "df8ecc7c",
   "metadata": {},
   "outputs": [
    {
     "data": {
      "text/plain": [
       "count    205.000000\n",
       "mean      98.756585\n",
       "std        6.021776\n",
       "min       86.600000\n",
       "25%       94.500000\n",
       "50%       97.000000\n",
       "75%      102.400000\n",
       "max      120.900000\n",
       "Name: wheelbase, dtype: float64"
      ]
     },
     "execution_count": 442,
     "metadata": {},
     "output_type": "execute_result"
    }
   ],
   "source": [
    "final_data['wheelbase'].describe()"
   ]
  },
  {
   "cell_type": "code",
   "execution_count": 443,
   "id": "5ea34527",
   "metadata": {},
   "outputs": [
    {
     "data": {
      "text/plain": [
       "0        (86.6, 94.5]\n",
       "1        (86.6, 94.5]\n",
       "2        (86.6, 94.5]\n",
       "3       (97.0, 102.0]\n",
       "4       (97.0, 102.0]\n",
       "            ...      \n",
       "200    (102.0, 120.0]\n",
       "201    (102.0, 120.0]\n",
       "202    (102.0, 120.0]\n",
       "203    (102.0, 120.0]\n",
       "204    (102.0, 120.0]\n",
       "Name: wheelbase, Length: 205, dtype: category\n",
       "Categories (4, interval[float64, right]): [(86.6, 94.5] < (94.5, 97.0] < (97.0, 102.0] < (102.0, 120.0]]"
      ]
     },
     "execution_count": 443,
     "metadata": {},
     "output_type": "execute_result"
    }
   ],
   "source": [
    "wheelbase = final_data['wheelbase']\n",
    "bins = (86.6, 94.5, 97, 102, 120)\n",
    "wheel_base= pd.cut(wheelbase, bins)\n",
    "wheel_base"
   ]
  },
  {
   "cell_type": "code",
   "execution_count": 444,
   "id": "3b4aaf99",
   "metadata": {},
   "outputs": [
    {
     "data": {
      "text/plain": [
       "0      0\n",
       "1      0\n",
       "2      0\n",
       "3      2\n",
       "4      2\n",
       "      ..\n",
       "200    3\n",
       "201    3\n",
       "202    3\n",
       "203    3\n",
       "204    3\n",
       "Length: 205, dtype: int8"
      ]
     },
     "execution_count": 444,
     "metadata": {},
     "output_type": "execute_result"
    }
   ],
   "source": [
    "WBClass = wheel_base.astype('category').cat.codes\n",
    "WBClass"
   ]
  },
  {
   "cell_type": "code",
   "execution_count": 445,
   "id": "8d56ae13",
   "metadata": {},
   "outputs": [
    {
     "data": {
      "text/plain": [
       "count    205.000000\n",
       "mean     104.117073\n",
       "std       39.544167\n",
       "min       48.000000\n",
       "25%       70.000000\n",
       "50%       95.000000\n",
       "75%      116.000000\n",
       "max      288.000000\n",
       "Name: horsepower, dtype: float64"
      ]
     },
     "execution_count": 445,
     "metadata": {},
     "output_type": "execute_result"
    }
   ],
   "source": [
    "final_data['horsepower'].describe()"
   ]
  },
  {
   "cell_type": "code",
   "execution_count": 446,
   "id": "fdabfca0",
   "metadata": {},
   "outputs": [
    {
     "data": {
      "text/plain": [
       "0       (95, 116]\n",
       "1       (95, 116]\n",
       "2      (116, 288]\n",
       "3       (95, 116]\n",
       "4       (95, 116]\n",
       "          ...    \n",
       "200     (95, 116]\n",
       "201    (116, 288]\n",
       "202    (116, 288]\n",
       "203     (95, 116]\n",
       "204     (95, 116]\n",
       "Name: horsepower, Length: 205, dtype: category\n",
       "Categories (4, interval[int64, right]): [(48, 70] < (70, 95] < (95, 116] < (116, 288]]"
      ]
     },
     "execution_count": 446,
     "metadata": {},
     "output_type": "execute_result"
    }
   ],
   "source": [
    "horsepower = final_data['horsepower']\n",
    "bins = (48, 70, 95, 116, 288)\n",
    "horse_power= pd.cut(horsepower, bins)\n",
    "horse_power"
   ]
  },
  {
   "cell_type": "code",
   "execution_count": 447,
   "id": "0a4ff96b",
   "metadata": {},
   "outputs": [
    {
     "data": {
      "text/plain": [
       "0      2\n",
       "1      2\n",
       "2      3\n",
       "3      2\n",
       "4      2\n",
       "      ..\n",
       "200    2\n",
       "201    3\n",
       "202    3\n",
       "203    2\n",
       "204    2\n",
       "Length: 205, dtype: int8"
      ]
     },
     "execution_count": 447,
     "metadata": {},
     "output_type": "execute_result"
    }
   ],
   "source": [
    "HPClass = horse_power.astype('category').cat.codes\n",
    "HPClass"
   ]
  },
  {
   "cell_type": "code",
   "execution_count": 448,
   "id": "dce70907",
   "metadata": {},
   "outputs": [
    {
     "data": {
      "text/plain": [
       "count    205.000000\n",
       "mean      25.219512\n",
       "std        6.542142\n",
       "min       13.000000\n",
       "25%       19.000000\n",
       "50%       24.000000\n",
       "75%       30.000000\n",
       "max       49.000000\n",
       "Name: citympg, dtype: float64"
      ]
     },
     "execution_count": 448,
     "metadata": {},
     "output_type": "execute_result"
    }
   ],
   "source": [
    "final_data['citympg'].describe()"
   ]
  },
  {
   "cell_type": "code",
   "execution_count": 449,
   "id": "cd1d8476",
   "metadata": {},
   "outputs": [
    {
     "data": {
      "text/plain": [
       "0      (19, 24]\n",
       "1      (19, 24]\n",
       "2      (13, 19]\n",
       "3      (19, 24]\n",
       "4      (13, 19]\n",
       "         ...   \n",
       "200    (19, 24]\n",
       "201    (13, 19]\n",
       "202    (13, 19]\n",
       "203    (24, 30]\n",
       "204    (13, 19]\n",
       "Name: citympg, Length: 205, dtype: category\n",
       "Categories (4, interval[int64, right]): [(13, 19] < (19, 24] < (24, 30] < (30, 49]]"
      ]
     },
     "execution_count": 449,
     "metadata": {},
     "output_type": "execute_result"
    }
   ],
   "source": [
    "citympg = final_data['citympg']\n",
    "bins = (13, 19, 24, 30, 49)\n",
    "city_mpg= pd.cut(citympg, bins)\n",
    "city_mpg"
   ]
  },
  {
   "cell_type": "code",
   "execution_count": 450,
   "id": "f7f4e221",
   "metadata": {},
   "outputs": [
    {
     "data": {
      "text/plain": [
       "0      1\n",
       "1      1\n",
       "2      0\n",
       "3      1\n",
       "4      0\n",
       "      ..\n",
       "200    1\n",
       "201    0\n",
       "202    0\n",
       "203    2\n",
       "204    0\n",
       "Length: 205, dtype: int8"
      ]
     },
     "execution_count": 450,
     "metadata": {},
     "output_type": "execute_result"
    }
   ],
   "source": [
    "CPGClass = city_mpg.astype('category').cat.codes\n",
    "CPGClass"
   ]
  },
  {
   "cell_type": "code",
   "execution_count": 451,
   "id": "903a9d94",
   "metadata": {},
   "outputs": [
    {
     "data": {
      "text/plain": [
       "count    205.000000\n",
       "mean      30.751220\n",
       "std        6.886443\n",
       "min       16.000000\n",
       "25%       25.000000\n",
       "50%       30.000000\n",
       "75%       34.000000\n",
       "max       54.000000\n",
       "Name: highwaympg, dtype: float64"
      ]
     },
     "execution_count": 451,
     "metadata": {},
     "output_type": "execute_result"
    }
   ],
   "source": [
    "final_data['highwaympg'].describe()"
   ]
  },
  {
   "cell_type": "code",
   "execution_count": 452,
   "id": "91bbadb9",
   "metadata": {},
   "outputs": [
    {
     "data": {
      "text/plain": [
       "0      (24, 30]\n",
       "1      (24, 30]\n",
       "2      (24, 30]\n",
       "3      (24, 30]\n",
       "4      (19, 24]\n",
       "         ...   \n",
       "200    (24, 30]\n",
       "201    (24, 30]\n",
       "202    (19, 24]\n",
       "203    (24, 30]\n",
       "204    (24, 30]\n",
       "Name: highwaympg, Length: 205, dtype: category\n",
       "Categories (4, interval[int64, right]): [(13, 19] < (19, 24] < (24, 30] < (30, 49]]"
      ]
     },
     "execution_count": 452,
     "metadata": {},
     "output_type": "execute_result"
    }
   ],
   "source": [
    "highway = final_data['highwaympg']\n",
    "bins = (13, 19, 24, 30, 49)\n",
    "highway_mpg= pd.cut(highway, bins)\n",
    "highway_mpg"
   ]
  },
  {
   "cell_type": "code",
   "execution_count": 453,
   "id": "469f84e5",
   "metadata": {},
   "outputs": [
    {
     "data": {
      "text/plain": [
       "0      2\n",
       "1      2\n",
       "2      2\n",
       "3      2\n",
       "4      1\n",
       "      ..\n",
       "200    2\n",
       "201    2\n",
       "202    1\n",
       "203    2\n",
       "204    2\n",
       "Length: 205, dtype: int8"
      ]
     },
     "execution_count": 453,
     "metadata": {},
     "output_type": "execute_result"
    }
   ],
   "source": [
    "HPGClass = highway_mpg.astype('category').cat.codes\n",
    "HPGClass"
   ]
  },
  {
   "cell_type": "code",
   "execution_count": 454,
   "id": "9efddaa5",
   "metadata": {},
   "outputs": [
    {
     "data": {
      "text/plain": [
       "count    205.000000\n",
       "mean       0.834146\n",
       "std        1.245307\n",
       "min       -2.000000\n",
       "25%        0.000000\n",
       "50%        1.000000\n",
       "75%        2.000000\n",
       "max        3.000000\n",
       "Name: symboling, dtype: float64"
      ]
     },
     "execution_count": 454,
     "metadata": {},
     "output_type": "execute_result"
    }
   ],
   "source": [
    "final_data['symboling'].describe()"
   ]
  },
  {
   "cell_type": "code",
   "execution_count": 455,
   "id": "e725f5c1",
   "metadata": {},
   "outputs": [
    {
     "data": {
      "text/plain": [
       "0       (2, 3]\n",
       "1       (2, 3]\n",
       "2       (0, 1]\n",
       "3       (1, 2]\n",
       "4       (1, 2]\n",
       "        ...   \n",
       "200    (-2, 0]\n",
       "201    (-2, 0]\n",
       "202    (-2, 0]\n",
       "203    (-2, 0]\n",
       "204    (-2, 0]\n",
       "Name: symboling, Length: 205, dtype: category\n",
       "Categories (4, interval[int64, right]): [(-2, 0] < (0, 1] < (1, 2] < (2, 3]]"
      ]
     },
     "execution_count": 455,
     "metadata": {},
     "output_type": "execute_result"
    }
   ],
   "source": [
    "symboling = final_data['symboling']\n",
    "bins = (-2, 0, 1, 2, 3)\n",
    "carsymboling= pd.cut(symboling, bins)\n",
    "carsymboling"
   ]
  },
  {
   "cell_type": "code",
   "execution_count": 456,
   "id": "5365fa24",
   "metadata": {},
   "outputs": [
    {
     "data": {
      "text/plain": [
       "0      3\n",
       "1      3\n",
       "2      1\n",
       "3      2\n",
       "4      2\n",
       "      ..\n",
       "200    0\n",
       "201    0\n",
       "202    0\n",
       "203    0\n",
       "204    0\n",
       "Length: 205, dtype: int8"
      ]
     },
     "execution_count": 456,
     "metadata": {},
     "output_type": "execute_result"
    }
   ],
   "source": [
    "SBClass = carsymboling.astype('category').cat.codes\n",
    "SBClass"
   ]
  },
  {
   "cell_type": "code",
   "execution_count": 457,
   "id": "87d6635c",
   "metadata": {},
   "outputs": [
    {
     "data": {
      "text/plain": [
       "count    205.000000\n",
       "mean     174.049268\n",
       "std       12.337289\n",
       "min      141.100000\n",
       "25%      166.300000\n",
       "50%      173.200000\n",
       "75%      183.100000\n",
       "max      208.100000\n",
       "Name: carlength, dtype: float64"
      ]
     },
     "execution_count": 457,
     "metadata": {},
     "output_type": "execute_result"
    }
   ],
   "source": [
    "final_data['carlength'].describe()"
   ]
  },
  {
   "cell_type": "code",
   "execution_count": 458,
   "id": "c5705066",
   "metadata": {},
   "outputs": [
    {
     "data": {
      "text/plain": [
       "0      (166, 173]\n",
       "1      (166, 173]\n",
       "2      (166, 173]\n",
       "3      (173, 183]\n",
       "4      (173, 183]\n",
       "          ...    \n",
       "200    (183, 208]\n",
       "201    (183, 208]\n",
       "202    (183, 208]\n",
       "203    (183, 208]\n",
       "204    (183, 208]\n",
       "Name: carlength, Length: 205, dtype: category\n",
       "Categories (4, interval[int64, right]): [(141, 166] < (166, 173] < (173, 183] < (183, 208]]"
      ]
     },
     "execution_count": 458,
     "metadata": {},
     "output_type": "execute_result"
    }
   ],
   "source": [
    "carlength = final_data['carlength']\n",
    "bins = (141, 166, 173, 183, 208)\n",
    "car_length= pd.cut(carlength, bins)\n",
    "car_length"
   ]
  },
  {
   "cell_type": "code",
   "execution_count": 459,
   "id": "ed665232",
   "metadata": {},
   "outputs": [
    {
     "data": {
      "text/plain": [
       "0      1\n",
       "1      1\n",
       "2      1\n",
       "3      2\n",
       "4      2\n",
       "      ..\n",
       "200    3\n",
       "201    3\n",
       "202    3\n",
       "203    3\n",
       "204    3\n",
       "Length: 205, dtype: int8"
      ]
     },
     "execution_count": 459,
     "metadata": {},
     "output_type": "execute_result"
    }
   ],
   "source": [
    "LengthClass = car_length.astype('category').cat.codes\n",
    "LengthClass"
   ]
  },
  {
   "cell_type": "code",
   "execution_count": 461,
   "id": "4ff87daf",
   "metadata": {},
   "outputs": [
    {
     "data": {
      "text/plain": [
       "count    205.000000\n",
       "mean      65.907805\n",
       "std        2.145204\n",
       "min       60.300000\n",
       "25%       64.100000\n",
       "50%       65.500000\n",
       "75%       66.900000\n",
       "max       72.300000\n",
       "Name: carwidth, dtype: float64"
      ]
     },
     "execution_count": 461,
     "metadata": {},
     "output_type": "execute_result"
    }
   ],
   "source": [
    "final_data['carwidth'].describe()"
   ]
  },
  {
   "cell_type": "code",
   "execution_count": 462,
   "id": "64346f85",
   "metadata": {},
   "outputs": [
    {
     "data": {
      "text/plain": [
       "0      (60.3, 64.1]\n",
       "1      (60.3, 64.1]\n",
       "2      (64.1, 65.5]\n",
       "3      (65.5, 66.9]\n",
       "4      (65.5, 66.9]\n",
       "           ...     \n",
       "200    (66.9, 72.3]\n",
       "201    (66.9, 72.3]\n",
       "202    (66.9, 72.3]\n",
       "203    (66.9, 72.3]\n",
       "204    (66.9, 72.3]\n",
       "Name: carwidth, Length: 205, dtype: category\n",
       "Categories (4, interval[float64, right]): [(60.3, 64.1] < (64.1, 65.5] < (65.5, 66.9] < (66.9, 72.3]]"
      ]
     },
     "execution_count": 462,
     "metadata": {},
     "output_type": "execute_result"
    }
   ],
   "source": [
    "carwidth = final_data['carwidth']\n",
    "bins = (60.3, 64.1, 65.5, 66.9, 72.3)\n",
    "car_width= pd.cut(carwidth, bins)\n",
    "car_width"
   ]
  },
  {
   "cell_type": "code",
   "execution_count": 463,
   "id": "c3076e05",
   "metadata": {},
   "outputs": [
    {
     "data": {
      "text/plain": [
       "0      0\n",
       "1      0\n",
       "2      1\n",
       "3      2\n",
       "4      2\n",
       "      ..\n",
       "200    3\n",
       "201    3\n",
       "202    3\n",
       "203    3\n",
       "204    3\n",
       "Length: 205, dtype: int8"
      ]
     },
     "execution_count": 463,
     "metadata": {},
     "output_type": "execute_result"
    }
   ],
   "source": [
    "WidthClass = car_width.astype('category').cat.codes\n",
    "WidthClass"
   ]
  },
  {
   "cell_type": "code",
   "execution_count": 465,
   "id": "407a3182",
   "metadata": {},
   "outputs": [
    {
     "data": {
      "text/plain": [
       "count    205.000000\n",
       "mean      53.724878\n",
       "std        2.443522\n",
       "min       47.800000\n",
       "25%       52.000000\n",
       "50%       54.100000\n",
       "75%       55.500000\n",
       "max       59.800000\n",
       "Name: carheight, dtype: float64"
      ]
     },
     "execution_count": 465,
     "metadata": {},
     "output_type": "execute_result"
    }
   ],
   "source": [
    "final_data['carheight'].describe()"
   ]
  },
  {
   "cell_type": "code",
   "execution_count": 466,
   "id": "32a34d13",
   "metadata": {},
   "outputs": [
    {
     "data": {
      "text/plain": [
       "0      (47.8, 52.0]\n",
       "1      (47.8, 52.0]\n",
       "2      (52.0, 54.1]\n",
       "3      (54.1, 55.5]\n",
       "4      (54.1, 55.5]\n",
       "           ...     \n",
       "200    (54.1, 55.5]\n",
       "201    (54.1, 55.5]\n",
       "202    (54.1, 55.5]\n",
       "203    (54.1, 55.5]\n",
       "204    (54.1, 55.5]\n",
       "Name: carheight, Length: 205, dtype: category\n",
       "Categories (4, interval[float64, right]): [(47.8, 52.0] < (52.0, 54.1] < (54.1, 55.5] < (55.5, 59.8]]"
      ]
     },
     "execution_count": 466,
     "metadata": {},
     "output_type": "execute_result"
    }
   ],
   "source": [
    "carheight= final_data['carheight']\n",
    "bins = (47.8, 52, 54.1, 55.5, 59.8)\n",
    "car_height= pd.cut(carheight, bins)\n",
    "car_height"
   ]
  },
  {
   "cell_type": "code",
   "execution_count": 467,
   "id": "0601239d",
   "metadata": {},
   "outputs": [
    {
     "data": {
      "text/plain": [
       "0      0\n",
       "1      0\n",
       "2      1\n",
       "3      2\n",
       "4      2\n",
       "      ..\n",
       "200    2\n",
       "201    2\n",
       "202    2\n",
       "203    2\n",
       "204    2\n",
       "Length: 205, dtype: int8"
      ]
     },
     "execution_count": 467,
     "metadata": {},
     "output_type": "execute_result"
    }
   ],
   "source": [
    "HeightClass = car_height.astype('category').cat.codes\n",
    "HeightClass"
   ]
  },
  {
   "cell_type": "code",
   "execution_count": 469,
   "id": "5d4967da",
   "metadata": {},
   "outputs": [
    {
     "data": {
      "text/plain": [
       "count     205.000000\n",
       "mean     2555.565854\n",
       "std       520.680204\n",
       "min      1488.000000\n",
       "25%      2145.000000\n",
       "50%      2414.000000\n",
       "75%      2935.000000\n",
       "max      4066.000000\n",
       "Name: curbweight, dtype: float64"
      ]
     },
     "execution_count": 469,
     "metadata": {},
     "output_type": "execute_result"
    }
   ],
   "source": [
    "final_data['curbweight'].describe()"
   ]
  },
  {
   "cell_type": "code",
   "execution_count": 470,
   "id": "0b84f25c",
   "metadata": {},
   "outputs": [
    {
     "data": {
      "text/plain": [
       "0      (2414, 2935]\n",
       "1      (2414, 2935]\n",
       "2      (2414, 2935]\n",
       "3      (2145, 2414]\n",
       "4      (2414, 2935]\n",
       "           ...     \n",
       "200    (2935, 4066]\n",
       "201    (2935, 4066]\n",
       "202    (2935, 4066]\n",
       "203    (2935, 4066]\n",
       "204    (2935, 4066]\n",
       "Name: curbweight, Length: 205, dtype: category\n",
       "Categories (4, interval[int64, right]): [(1488, 2145] < (2145, 2414] < (2414, 2935] < (2935, 4066]]"
      ]
     },
     "execution_count": 470,
     "metadata": {},
     "output_type": "execute_result"
    }
   ],
   "source": [
    "curbweight= final_data['curbweight']\n",
    "bins = (1488, 2145, 2414, 2935, 4066)\n",
    "curb_weight= pd.cut(curbweight, bins)\n",
    "curb_weight"
   ]
  },
  {
   "cell_type": "code",
   "execution_count": 671,
   "id": "9cf21736",
   "metadata": {},
   "outputs": [
    {
     "data": {
      "text/plain": [
       "0      2\n",
       "1      2\n",
       "2      2\n",
       "3      1\n",
       "4      2\n",
       "      ..\n",
       "200    3\n",
       "201    3\n",
       "202    3\n",
       "203    3\n",
       "204    3\n",
       "Length: 205, dtype: int8"
      ]
     },
     "execution_count": 671,
     "metadata": {},
     "output_type": "execute_result"
    }
   ],
   "source": [
    "CurbClass = curb_weight.astype('category').cat.codes\n",
    "CurbClass"
   ]
  },
  {
   "cell_type": "code",
   "execution_count": 473,
   "id": "9c1bc1b0",
   "metadata": {},
   "outputs": [
    {
     "data": {
      "text/plain": [
       "count    205.000000\n",
       "mean     126.907317\n",
       "std       41.642693\n",
       "min       61.000000\n",
       "25%       97.000000\n",
       "50%      120.000000\n",
       "75%      141.000000\n",
       "max      326.000000\n",
       "Name: enginesize, dtype: float64"
      ]
     },
     "execution_count": 473,
     "metadata": {},
     "output_type": "execute_result"
    }
   ],
   "source": [
    "final_data['enginesize'].describe()"
   ]
  },
  {
   "cell_type": "code",
   "execution_count": 474,
   "id": "f3cb4047",
   "metadata": {},
   "outputs": [
    {
     "data": {
      "text/plain": [
       "0      (120, 141]\n",
       "1      (120, 141]\n",
       "2      (141, 326]\n",
       "3       (97, 120]\n",
       "4      (120, 141]\n",
       "          ...    \n",
       "200    (120, 141]\n",
       "201    (120, 141]\n",
       "202    (141, 326]\n",
       "203    (141, 326]\n",
       "204    (120, 141]\n",
       "Name: enginesize, Length: 205, dtype: category\n",
       "Categories (4, interval[int64, right]): [(61, 97] < (97, 120] < (120, 141] < (141, 326]]"
      ]
     },
     "execution_count": 474,
     "metadata": {},
     "output_type": "execute_result"
    }
   ],
   "source": [
    "enginesize= final_data['enginesize']\n",
    "bins = (61, 97, 120, 141, 326)\n",
    "engine_size= pd.cut(enginesize, bins)\n",
    "engine_size"
   ]
  },
  {
   "cell_type": "code",
   "execution_count": 475,
   "id": "da9b481b",
   "metadata": {},
   "outputs": [
    {
     "data": {
      "text/plain": [
       "0      2\n",
       "1      2\n",
       "2      3\n",
       "3      1\n",
       "4      2\n",
       "      ..\n",
       "200    2\n",
       "201    2\n",
       "202    3\n",
       "203    3\n",
       "204    2\n",
       "Length: 205, dtype: int8"
      ]
     },
     "execution_count": 475,
     "metadata": {},
     "output_type": "execute_result"
    }
   ],
   "source": [
    "EngineClass = engine_size.astype('category').cat.codes\n",
    "EngineClass"
   ]
  },
  {
   "cell_type": "code",
   "execution_count": 478,
   "id": "92ed218c",
   "metadata": {},
   "outputs": [
    {
     "data": {
      "text/plain": [
       "count    205.000000\n",
       "mean       3.329756\n",
       "std        0.270844\n",
       "min        2.540000\n",
       "25%        3.150000\n",
       "50%        3.310000\n",
       "75%        3.580000\n",
       "max        3.940000\n",
       "Name: boreratio, dtype: float64"
      ]
     },
     "execution_count": 478,
     "metadata": {},
     "output_type": "execute_result"
    }
   ],
   "source": [
    "final_data['boreratio'].describe()"
   ]
  },
  {
   "cell_type": "code",
   "execution_count": 479,
   "id": "486c7624",
   "metadata": {},
   "outputs": [
    {
     "data": {
      "text/plain": [
       "0      (3.31, 3.58]\n",
       "1      (3.31, 3.58]\n",
       "2      (2.53, 3.15]\n",
       "3      (3.15, 3.31]\n",
       "4      (3.15, 3.31]\n",
       "           ...     \n",
       "200    (3.58, 3.94]\n",
       "201    (3.58, 3.94]\n",
       "202    (3.31, 3.58]\n",
       "203    (2.53, 3.15]\n",
       "204    (3.58, 3.94]\n",
       "Name: boreratio, Length: 205, dtype: category\n",
       "Categories (4, interval[float64, right]): [(2.53, 3.15] < (3.15, 3.31] < (3.31, 3.58] < (3.58, 3.94]]"
      ]
     },
     "execution_count": 479,
     "metadata": {},
     "output_type": "execute_result"
    }
   ],
   "source": [
    "boreratio= final_data['boreratio']\n",
    "bins = (2.53, 3.15, 3.31, 3.58, 3.94)\n",
    "bore_ratio= pd.cut(boreratio, bins)\n",
    "bore_ratio"
   ]
  },
  {
   "cell_type": "code",
   "execution_count": 480,
   "id": "dfd1b7c0",
   "metadata": {},
   "outputs": [
    {
     "data": {
      "text/plain": [
       "0      2\n",
       "1      2\n",
       "2      0\n",
       "3      1\n",
       "4      1\n",
       "      ..\n",
       "200    3\n",
       "201    3\n",
       "202    2\n",
       "203    0\n",
       "204    3\n",
       "Length: 205, dtype: int8"
      ]
     },
     "execution_count": 480,
     "metadata": {},
     "output_type": "execute_result"
    }
   ],
   "source": [
    "BoreRatioClass = bore_ratio.astype('category').cat.codes\n",
    "BoreRatioClass"
   ]
  },
  {
   "cell_type": "code",
   "execution_count": 482,
   "id": "2a787ac1",
   "metadata": {},
   "outputs": [
    {
     "data": {
      "text/plain": [
       "count    205.000000\n",
       "mean       3.255415\n",
       "std        0.313597\n",
       "min        2.070000\n",
       "25%        3.110000\n",
       "50%        3.290000\n",
       "75%        3.410000\n",
       "max        4.170000\n",
       "Name: stroke, dtype: float64"
      ]
     },
     "execution_count": 482,
     "metadata": {},
     "output_type": "execute_result"
    }
   ],
   "source": [
    "final_data.stroke.describe()"
   ]
  },
  {
   "cell_type": "code",
   "execution_count": 291,
   "id": "df5b4fec",
   "metadata": {},
   "outputs": [
    {
     "data": {
      "text/plain": [
       "0      (2.07, 3.11]\n",
       "1      (2.07, 3.11]\n",
       "2      (3.41, 4.17]\n",
       "3      (3.29, 3.41]\n",
       "4      (3.29, 3.41]\n",
       "           ...     \n",
       "200    (3.11, 3.29]\n",
       "201    (3.11, 3.29]\n",
       "202    (2.07, 3.11]\n",
       "203    (3.29, 3.41]\n",
       "204    (3.11, 3.29]\n",
       "Name: stroke, Length: 205, dtype: category\n",
       "Categories (4, interval[float64, right]): [(2.07, 3.11] < (3.11, 3.29] < (3.29, 3.41] < (3.41, 4.17]]"
      ]
     },
     "execution_count": 291,
     "metadata": {},
     "output_type": "execute_result"
    }
   ],
   "source": [
    "stroke= final_data['stroke']\n",
    "bins = (2.07, 3.11, 3.29, 3.41, 4.17)\n",
    "engine_stroke= pd.cut(stroke, bins)\n",
    "engine_stroke"
   ]
  },
  {
   "cell_type": "code",
   "execution_count": 292,
   "id": "a18cc604",
   "metadata": {},
   "outputs": [
    {
     "data": {
      "text/plain": [
       "0      0\n",
       "1      0\n",
       "2      3\n",
       "3      2\n",
       "4      2\n",
       "      ..\n",
       "200    1\n",
       "201    1\n",
       "202    0\n",
       "203    2\n",
       "204    1\n",
       "Length: 205, dtype: int8"
      ]
     },
     "execution_count": 292,
     "metadata": {},
     "output_type": "execute_result"
    }
   ],
   "source": [
    "StrokeClass = engine_stroke.astype('category').cat.codes\n",
    "StrokeClass"
   ]
  },
  {
   "cell_type": "code",
   "execution_count": 293,
   "id": "a6dfc8fb",
   "metadata": {},
   "outputs": [],
   "source": [
    "final_data.insert(42,'StrokeClass',StrokeClass)"
   ]
  },
  {
   "cell_type": "code",
   "execution_count": 294,
   "id": "229e5c4d",
   "metadata": {},
   "outputs": [
    {
     "data": {
      "text/plain": [
       "count    205.000000\n",
       "mean      10.142537\n",
       "std        3.972040\n",
       "min        7.000000\n",
       "25%        8.600000\n",
       "50%        9.000000\n",
       "75%        9.400000\n",
       "max       23.000000\n",
       "Name: compressionratio, dtype: float64"
      ]
     },
     "execution_count": 294,
     "metadata": {},
     "output_type": "execute_result"
    }
   ],
   "source": [
    "final_data.compressionratio.describe()"
   ]
  },
  {
   "cell_type": "code",
   "execution_count": 295,
   "id": "0fac786f",
   "metadata": {},
   "outputs": [
    {
     "data": {
      "text/plain": [
       "0       (8.6, 9.0]\n",
       "1       (8.6, 9.0]\n",
       "2       (8.6, 9.0]\n",
       "3      (9.4, 23.0]\n",
       "4       (7.0, 8.6]\n",
       "          ...     \n",
       "200    (9.4, 23.0]\n",
       "201     (8.6, 9.0]\n",
       "202     (8.6, 9.0]\n",
       "203    (9.4, 23.0]\n",
       "204    (9.4, 23.0]\n",
       "Name: compressionratio, Length: 205, dtype: category\n",
       "Categories (4, interval[float64, right]): [(7.0, 8.6] < (8.6, 9.0] < (9.0, 9.4] < (9.4, 23.0]]"
      ]
     },
     "execution_count": 295,
     "metadata": {},
     "output_type": "execute_result"
    }
   ],
   "source": [
    "compressionratio= final_data['compressionratio']\n",
    "bins = (7, 8.6, 9, 9.4, 23)\n",
    "compression_ratio= pd.cut(compressionratio, bins)\n",
    "compression_ratio"
   ]
  },
  {
   "cell_type": "code",
   "execution_count": 296,
   "id": "5435db89",
   "metadata": {},
   "outputs": [
    {
     "data": {
      "text/plain": [
       "0      1\n",
       "1      1\n",
       "2      1\n",
       "3      3\n",
       "4      0\n",
       "      ..\n",
       "200    3\n",
       "201    1\n",
       "202    1\n",
       "203    3\n",
       "204    3\n",
       "Length: 205, dtype: int8"
      ]
     },
     "execution_count": 296,
     "metadata": {},
     "output_type": "execute_result"
    }
   ],
   "source": [
    "CompressionClass = compression_ratio.astype('category').cat.codes\n",
    "CompressionClass"
   ]
  },
  {
   "cell_type": "code",
   "execution_count": 297,
   "id": "5797825e",
   "metadata": {},
   "outputs": [],
   "source": [
    "final_data.insert(42,'CompressionClass',CompressionClass)"
   ]
  },
  {
   "cell_type": "code",
   "execution_count": 305,
   "id": "5478c725",
   "metadata": {},
   "outputs": [
    {
     "data": {
      "text/plain": [
       "count    205.000000\n",
       "mean     126.907317\n",
       "std       41.642693\n",
       "min       61.000000\n",
       "25%       97.000000\n",
       "50%      120.000000\n",
       "75%      141.000000\n",
       "max      326.000000\n",
       "Name: enginesize, dtype: float64"
      ]
     },
     "execution_count": 305,
     "metadata": {},
     "output_type": "execute_result"
    }
   ],
   "source": [
    "final_data.enginesize.describe()"
   ]
  },
  {
   "cell_type": "code",
   "execution_count": 306,
   "id": "2549ab0d",
   "metadata": {},
   "outputs": [
    {
     "data": {
      "text/plain": [
       "0      (120, 141]\n",
       "1      (120, 141]\n",
       "2      (141, 326]\n",
       "3       (97, 120]\n",
       "4      (120, 141]\n",
       "          ...    \n",
       "200    (120, 141]\n",
       "201    (120, 141]\n",
       "202    (141, 326]\n",
       "203    (141, 326]\n",
       "204    (120, 141]\n",
       "Name: enginesize, Length: 205, dtype: category\n",
       "Categories (4, interval[int64, right]): [(62, 97] < (97, 120] < (120, 141] < (141, 326]]"
      ]
     },
     "execution_count": 306,
     "metadata": {},
     "output_type": "execute_result"
    }
   ],
   "source": [
    "enginesize= final_data['enginesize']\n",
    "bins = (62, 97, 120, 141, 326)\n",
    "engine_size= pd.cut(enginesize, bins)\n",
    "engine_size"
   ]
  },
  {
   "cell_type": "code",
   "execution_count": 309,
   "id": "1de10744",
   "metadata": {},
   "outputs": [
    {
     "data": {
      "text/plain": [
       "0      2\n",
       "1      2\n",
       "2      3\n",
       "3      1\n",
       "4      2\n",
       "      ..\n",
       "200    2\n",
       "201    2\n",
       "202    3\n",
       "203    3\n",
       "204    2\n",
       "Length: 205, dtype: int8"
      ]
     },
     "execution_count": 309,
     "metadata": {},
     "output_type": "execute_result"
    }
   ],
   "source": [
    "EngineSizeClass = engine_size.astype('category').cat.codes\n",
    "EngineSizeClass"
   ]
  },
  {
   "cell_type": "markdown",
   "id": "0e25c0e6",
   "metadata": {},
   "source": [
    "**ĐƯA CÁC DỮ LIỆU ĐÃ MÃ HOÁ VÀO BỘ DỮ LIỆU "
   ]
  },
  {
   "cell_type": "code",
   "execution_count": 645,
   "id": "a21fd4b0",
   "metadata": {},
   "outputs": [],
   "source": [
    "final_data.insert(29,'FuelTypeClass',fuel_type)"
   ]
  },
  {
   "cell_type": "code",
   "execution_count": 646,
   "id": "a7b77638",
   "metadata": {},
   "outputs": [],
   "source": [
    "final_data.insert(30,'AspirationTypeClass',aspiration_type)"
   ]
  },
  {
   "cell_type": "code",
   "execution_count": 647,
   "id": "261c12b3",
   "metadata": {},
   "outputs": [],
   "source": [
    "final_data.insert(31,'DoorNumberClass',door_number)"
   ]
  },
  {
   "cell_type": "code",
   "execution_count": 648,
   "id": "470927d7",
   "metadata": {},
   "outputs": [],
   "source": [
    "final_data.insert(32,'CarbodyClass',carbody_type)"
   ]
  },
  {
   "cell_type": "code",
   "execution_count": 649,
   "id": "5b9db03b",
   "metadata": {},
   "outputs": [],
   "source": [
    "final_data.insert(33,'DriveWheelClass',drive_wheel_type)"
   ]
  },
  {
   "cell_type": "code",
   "execution_count": 650,
   "id": "ca6d9d7f",
   "metadata": {},
   "outputs": [],
   "source": [
    "final_data.insert(34,'EngineLocationType',engine_location)"
   ]
  },
  {
   "cell_type": "code",
   "execution_count": 651,
   "id": "f966909f",
   "metadata": {},
   "outputs": [],
   "source": [
    "final_data.insert(35,'PriceClass',PriceClass)"
   ]
  },
  {
   "cell_type": "code",
   "execution_count": 652,
   "id": "237623b2",
   "metadata": {},
   "outputs": [],
   "source": [
    "final_data.insert(36,'WBClass',WBClass)"
   ]
  },
  {
   "cell_type": "code",
   "execution_count": 653,
   "id": "c6e54fc8",
   "metadata": {},
   "outputs": [],
   "source": [
    "final_data.insert(37,'HPClass',HPClass)"
   ]
  },
  {
   "cell_type": "code",
   "execution_count": 654,
   "id": "4a496125",
   "metadata": {},
   "outputs": [],
   "source": [
    "final_data.insert(38,'PeakClass',PeakClass)"
   ]
  },
  {
   "cell_type": "code",
   "execution_count": 655,
   "id": "2fdc89e9",
   "metadata": {},
   "outputs": [],
   "source": [
    "final_data.insert(39,'CPGClass',CPGClass)"
   ]
  },
  {
   "cell_type": "code",
   "execution_count": 656,
   "id": "4935ba47",
   "metadata": {},
   "outputs": [],
   "source": [
    "final_data.insert(40,'HPGClass',HPGClass)"
   ]
  },
  {
   "cell_type": "code",
   "execution_count": 670,
   "id": "b2dc4c43",
   "metadata": {},
   "outputs": [],
   "source": [
    "final_data.insert(41,'SBClass',SBClass)"
   ]
  },
  {
   "cell_type": "code",
   "execution_count": 672,
   "id": "216ccc88",
   "metadata": {},
   "outputs": [],
   "source": [
    "final_data.insert(42,'LengthClass',LengthClass)"
   ]
  },
  {
   "cell_type": "code",
   "execution_count": 673,
   "id": "6aed60aa",
   "metadata": {},
   "outputs": [],
   "source": [
    "final_data.insert(43,'WidthClass',WidthClass)"
   ]
  },
  {
   "cell_type": "code",
   "execution_count": 674,
   "id": "a68c0fcd",
   "metadata": {},
   "outputs": [],
   "source": [
    "final_data.insert(44,'HeightClass',HeightClass)"
   ]
  },
  {
   "cell_type": "code",
   "execution_count": 675,
   "id": "b50dbe99",
   "metadata": {},
   "outputs": [],
   "source": [
    "final_data.insert(45,'CurbClass',CurbClass)"
   ]
  },
  {
   "cell_type": "code",
   "execution_count": 676,
   "id": "21e879b8",
   "metadata": {},
   "outputs": [],
   "source": [
    "final_data.insert(46,'EngineClass',EngineClass)"
   ]
  },
  {
   "cell_type": "code",
   "execution_count": 677,
   "id": "7d809fac",
   "metadata": {},
   "outputs": [],
   "source": [
    "final_data.insert(47,'BoreRatiocClass',BoreRatioClass)"
   ]
  },
  {
   "cell_type": "code",
   "execution_count": 678,
   "id": "6f5a694c",
   "metadata": {},
   "outputs": [],
   "source": [
    "final_data.insert(48,'StrokeClass',StrokeClass)"
   ]
  },
  {
   "cell_type": "code",
   "execution_count": 680,
   "id": "beddf579",
   "metadata": {},
   "outputs": [],
   "source": [
    "final_data.insert(49,'CompressionClass',CompressionClass)"
   ]
  },
  {
   "cell_type": "code",
   "execution_count": 681,
   "id": "2ee1323c",
   "metadata": {},
   "outputs": [],
   "source": [
    "final_data.insert(50,'EngineSizeClass',EngineSizeClass)"
   ]
  },
  {
   "cell_type": "code",
   "execution_count": 695,
   "id": "924b014f",
   "metadata": {},
   "outputs": [],
   "source": [
    "final_data.insert(51,'BrandCode',BrandCode)"
   ]
  },
  {
   "cell_type": "code",
   "execution_count": 696,
   "id": "c814a5ab",
   "metadata": {
    "scrolled": true
   },
   "outputs": [
    {
     "name": "stdout",
     "output_type": "stream",
     "text": [
      "<class 'pandas.core.frame.DataFrame'>\n",
      "RangeIndex: 205 entries, 0 to 204\n",
      "Data columns (total 52 columns):\n",
      " #   Column               Non-Null Count  Dtype  \n",
      "---  ------               --------------  -----  \n",
      " 0   car_ID               205 non-null    int64  \n",
      " 1   symboling            205 non-null    int64  \n",
      " 2   CarName              205 non-null    object \n",
      " 3   fueltype             205 non-null    object \n",
      " 4   aspiration           205 non-null    object \n",
      " 5   doornumber           205 non-null    object \n",
      " 6   carbody              205 non-null    object \n",
      " 7   drivewheel           205 non-null    object \n",
      " 8   enginelocation       205 non-null    object \n",
      " 9   wheelbase            205 non-null    float64\n",
      " 10  carlength            205 non-null    float64\n",
      " 11  carwidth             205 non-null    float64\n",
      " 12  carheight            205 non-null    float64\n",
      " 13  curbweight           205 non-null    int64  \n",
      " 14  enginetype           205 non-null    object \n",
      " 15  cylindernumber       205 non-null    object \n",
      " 16  enginesize           205 non-null    int64  \n",
      " 17  fuelsystem           205 non-null    object \n",
      " 18  boreratio            205 non-null    float64\n",
      " 19  stroke               205 non-null    float64\n",
      " 20  compressionratio     205 non-null    float64\n",
      " 21  horsepower           205 non-null    int64  \n",
      " 22  peakrpm              205 non-null    int64  \n",
      " 23  citympg              205 non-null    int64  \n",
      " 24  highwaympg           205 non-null    int64  \n",
      " 25  price                205 non-null    float64\n",
      " 26  BrandName            205 non-null    object \n",
      " 27  model                203 non-null    object \n",
      " 28  AddInfo              65 non-null     object \n",
      " 29  FuelTypeClass        205 non-null    int64  \n",
      " 30  AspirationTypeClass  205 non-null    int64  \n",
      " 31  DoorNumberClass      205 non-null    int64  \n",
      " 32  CarbodyClass         205 non-null    int64  \n",
      " 33  DriveWheelClass      205 non-null    int64  \n",
      " 34  EngineLocationType   205 non-null    int64  \n",
      " 35  PriceClass           205 non-null    int8   \n",
      " 36  WBClass              205 non-null    float64\n",
      " 37  HPClass              205 non-null    float64\n",
      " 38  PeakClass            205 non-null    int8   \n",
      " 39  CPGClass             205 non-null    int8   \n",
      " 40  HPGClass             205 non-null    int8   \n",
      " 41  SBClass              205 non-null    int8   \n",
      " 42  LengthClass          205 non-null    float64\n",
      " 43  WidthClass           205 non-null    float64\n",
      " 44  HeightClass          205 non-null    int8   \n",
      " 45  CurbClass            205 non-null    int8   \n",
      " 46  EngineClass          205 non-null    float64\n",
      " 47  BoreRatiocClass      205 non-null    int8   \n",
      " 48  StrokeClass          205 non-null    int8   \n",
      " 49  CompressionClass     205 non-null    int8   \n",
      " 50  EngineSizeClass      205 non-null    int8   \n",
      " 51  BrandCode            205 non-null    int64  \n",
      "dtypes: float64(13), int64(15), int8(11), object(13)\n",
      "memory usage: 68.0+ KB\n"
     ]
    }
   ],
   "source": [
    "final_data.info()"
   ]
  },
  {
   "cell_type": "markdown",
   "id": "8addf2b5",
   "metadata": {},
   "source": [
    "**KIỂM ĐỊNH TƯƠNG QUAN CÁC THUỘC TÍNH VỚI THUỘC TÍNH GIÁ\n"
   ]
  },
  {
   "cell_type": "code",
   "execution_count": 555,
   "id": "9dd9d87b",
   "metadata": {},
   "outputs": [],
   "source": [
    "import scipy.stats as stats\n",
    "import pandas as pd\n",
    "import matplotlib.pyplot as plt\n",
    "import seaborn as sns\n",
    "import numpy as np\n",
    "from scipy.stats import pearsonr\n",
    "from scipy.stats import chi2_contingency"
   ]
  },
  {
   "cell_type": "code",
   "execution_count": 702,
   "id": "28872751",
   "metadata": {},
   "outputs": [
    {
     "name": "stdout",
     "output_type": "stream",
     "text": [
      "r= -0.13108577723982864\n",
      "pvalue=  0.06100235083581936\n"
     ]
    }
   ],
   "source": [
    "#fuel type vs price:\n",
    "r, pvalue = pearsonr(final_data.PriceClass, final_data.FuelTypeClass)\n",
    "print ('r=', r)\n",
    "print('pvalue= ', pvalue)"
   ]
  },
  {
   "cell_type": "markdown",
   "id": "36568ed6",
   "metadata": {},
   "source": [
    "Giả sử giá trị alpha = 0.05, pvalue = 0.061 > alpha -> Hai thuộc tính không có quan hệ."
   ]
  },
  {
   "cell_type": "code",
   "execution_count": 703,
   "id": "9a9181a8",
   "metadata": {},
   "outputs": [
    {
     "name": "stdout",
     "output_type": "stream",
     "text": [
      "r= 0.24528886197783503\n",
      "pvalue=  0.0003928565224325668\n"
     ]
    }
   ],
   "source": [
    "#Aspiration type vs price:\n",
    "r, pvalue = pearsonr(final_data.PriceClass, final_data.AspirationTypeClass)\n",
    "print ('r=', r)\n",
    "print('pvalue= ', pvalue)"
   ]
  },
  {
   "cell_type": "markdown",
   "id": "c510e6ab",
   "metadata": {},
   "source": [
    "Giả sử giá trị alpha = 0.05, pvalue = 0.0003 < alpha -> Hai thuộc tính có quan hệ."
   ]
  },
  {
   "cell_type": "code",
   "execution_count": 704,
   "id": "59b7517d",
   "metadata": {},
   "outputs": [
    {
     "name": "stdout",
     "output_type": "stream",
     "text": [
      "r= -0.06485213174512433\n",
      "pvalue=  0.35557150979265845\n"
     ]
    }
   ],
   "source": [
    "#Door number vs price:\n",
    "r, pvalue = pearsonr(final_data.PriceClass, final_data.DoorNumberClass)\n",
    "print ('r=', r)\n",
    "print('pvalue= ', pvalue)"
   ]
  },
  {
   "cell_type": "markdown",
   "id": "30d13422",
   "metadata": {},
   "source": [
    "Giả sử giá trị alpha = 0.05, pvalue = 0.355 > alpha -> Hai thuộc tính không có quan hệ."
   ]
  },
  {
   "cell_type": "code",
   "execution_count": 706,
   "id": "3eff902f",
   "metadata": {},
   "outputs": [
    {
     "name": "stdout",
     "output_type": "stream",
     "text": [
      "r= -0.052577067761037405\n",
      "pvalue=  0.45403564338979396\n"
     ]
    }
   ],
   "source": [
    "#Carbody vs price:\n",
    "r, pvalue = pearsonr(final_data.PriceClass, final_data.CarbodyClass)\n",
    "print ('r=', r)\n",
    "print('pvalue= ', pvalue)"
   ]
  },
  {
   "cell_type": "markdown",
   "id": "8037e786",
   "metadata": {},
   "source": [
    "Giả sử giá trị alpha = 0.05, pvalue = 0.454 > alpha -> Hai thuộc tính không có quan hệ."
   ]
  },
  {
   "cell_type": "code",
   "execution_count": 708,
   "id": "c89dbda1",
   "metadata": {},
   "outputs": [
    {
     "name": "stdout",
     "output_type": "stream",
     "text": [
      "r= 0.5769696595249072\n",
      "pvalue=  1.3744677781750177e-19\n"
     ]
    }
   ],
   "source": [
    "#Drivewheel vs price:\n",
    "r, pvalue = pearsonr(final_data.PriceClass, final_data.DriveWheelClass)\n",
    "print ('r=', r)\n",
    "print('pvalue= ', pvalue)"
   ]
  },
  {
   "cell_type": "markdown",
   "id": "57dbb8e9",
   "metadata": {},
   "source": [
    "Giả sử giá trị alpha = 0.05, pvalue = 1.3744e-19 < alpha -> Hai thuộc tính có quan hệ."
   ]
  },
  {
   "cell_type": "code",
   "execution_count": 709,
   "id": "97ca605f",
   "metadata": {},
   "outputs": [
    {
     "name": "stdout",
     "output_type": "stream",
     "text": [
      "r= 0.27636459132370916\n",
      "pvalue=  6.042495595868213e-05\n"
     ]
    }
   ],
   "source": [
    "#Engine Location vs price:\n",
    "r, pvalue = pearsonr(final_data.PriceClass, final_data.EngineLocationType)\n",
    "print ('r=', r)\n",
    "print('pvalue= ', pvalue)"
   ]
  },
  {
   "cell_type": "markdown",
   "id": "ec9fcc1b",
   "metadata": {},
   "source": [
    "Giả sử giá trị alpha = 0.05, pvalue = 6.042e-05 < alpha -> Hai thuộc tính có quan hệ."
   ]
  },
  {
   "cell_type": "code",
   "execution_count": 710,
   "id": "1a209e2c",
   "metadata": {},
   "outputs": [
    {
     "name": "stdout",
     "output_type": "stream",
     "text": [
      "r= -0.12748148775993096\n",
      "pvalue=  0.06852553059517089\n"
     ]
    }
   ],
   "source": [
    "#Brand vs price:\n",
    "r, pvalue = pearsonr(final_data.PriceClass, final_data.BrandCode)\n",
    "print ('r=', r)\n",
    "print('pvalue= ', pvalue)"
   ]
  },
  {
   "cell_type": "markdown",
   "id": "642e12a2",
   "metadata": {},
   "source": [
    "Giả sử giá trị alpha = 0.05, pvalue = 0.06 > alpha -> Hai thuộc tính không có quan hệ."
   ]
  },
  {
   "cell_type": "code",
   "execution_count": null,
   "id": "9ace1a60",
   "metadata": {},
   "outputs": [],
   "source": [
    "#peakrpm vs price:\n",
    "r, pvalue = pearsonr(final_data.PriceClass, final_data.PeakClass)\n",
    "print ('r=', r)\n",
    "print('pvalue= ', pvalue)"
   ]
  },
  {
   "cell_type": "code",
   "execution_count": 556,
   "id": "42db525c",
   "metadata": {},
   "outputs": [
    {
     "name": "stdout",
     "output_type": "stream",
     "text": [
      "r= -0.014562509679122274\n",
      "pvalue=  0.8358228563624877\n"
     ]
    }
   ],
   "source": [
    "#peakrpm vs price:\n",
    "r, pvalue = pearsonr(final_data.PriceClass, final_data.PeakClass)\n",
    "print ('r=', r)\n",
    "print('pvalue= ', pvalue)"
   ]
  },
  {
   "cell_type": "markdown",
   "id": "0ef8be02",
   "metadata": {},
   "source": [
    "Giả sử giá trị alpha = 0.05, pvalue = 0.8358228563624877 > alpha -> Hai thuộc tính không có quan hệ."
   ]
  },
  {
   "cell_type": "code",
   "execution_count": 557,
   "id": "de81911c",
   "metadata": {},
   "outputs": [
    {
     "name": "stdout",
     "output_type": "stream",
     "text": [
      "r= 0.5448651249073183\n",
      "pvalue=  3.020654151272195e-17\n"
     ]
    }
   ],
   "source": [
    "#wheelbase vs price:\n",
    "r, pvalue = pearsonr(final_data.PriceClass, final_data.WBClass)\n",
    "print ('r=', r)\n",
    "print('pvalue= ', pvalue)"
   ]
  },
  {
   "cell_type": "markdown",
   "id": "ec1ef975",
   "metadata": {},
   "source": [
    "Giả sử giá trị alpha = 0.05, pvalue = 3.020654151272195e-17 < alpha -> Hai thuộc tính có quan hệ."
   ]
  },
  {
   "cell_type": "code",
   "execution_count": 558,
   "id": "210a56db",
   "metadata": {},
   "outputs": [
    {
     "name": "stdout",
     "output_type": "stream",
     "text": [
      "r= 0.7782896618687365\n",
      "pvalue=  6.724734705963238e-43\n"
     ]
    }
   ],
   "source": [
    "#horsepower vs price:\n",
    "r, pvalue = pearsonr(final_data.PriceClass, final_data.HPClass)\n",
    "print ('r=', r)\n",
    "print('pvalue= ', pvalue)"
   ]
  },
  {
   "cell_type": "markdown",
   "id": "1f524c6b",
   "metadata": {},
   "source": [
    "Giả sử giá trị alpha = 0.05, pvalue = 6.724734705963238e-43 < alpha -> Hai thuộc tính có quan hệ."
   ]
  },
  {
   "cell_type": "code",
   "execution_count": 559,
   "id": "24533fba",
   "metadata": {},
   "outputs": [
    {
     "name": "stdout",
     "output_type": "stream",
     "text": [
      "r= -0.7387552082451387\n",
      "pvalue=  1.2358004665849428e-36\n"
     ]
    }
   ],
   "source": [
    "#citympg vs price:\n",
    "r, pvalue = pearsonr(final_data.PriceClass, final_data.CPGClass)\n",
    "print ('r=', r)\n",
    "print('pvalue= ', pvalue)"
   ]
  },
  {
   "cell_type": "markdown",
   "id": "90c4a8c0",
   "metadata": {},
   "source": [
    "Giả sử giá trị alpha = 0.05, pvalue = 1.2358004665849428e-36 < alpha -> Hai thuộc tính không\n",
    "có quan hệ."
   ]
  },
  {
   "cell_type": "code",
   "execution_count": 560,
   "id": "ed03df4a",
   "metadata": {},
   "outputs": [
    {
     "name": "stdout",
     "output_type": "stream",
     "text": [
      "r= -0.5686322247013108\n",
      "pvalue=  5.90113270241102e-19\n"
     ]
    }
   ],
   "source": [
    "#highwaympg vs price:\n",
    "r, pvalue = pearsonr(final_data.PriceClass, final_data.HPGClass)\n",
    "print ('r=', r)\n",
    "print('pvalue= ', pvalue)"
   ]
  },
  {
   "cell_type": "markdown",
   "id": "4c0dbfd9",
   "metadata": {},
   "source": [
    "Giả sử giá trị alpha = 0.05, pvalue = 5.90113270241102e-19 < alpha -> Hai thuộc tính không có quan hệ."
   ]
  },
  {
   "cell_type": "code",
   "execution_count": 561,
   "id": "b35ee25e",
   "metadata": {},
   "outputs": [
    {
     "name": "stdout",
     "output_type": "stream",
     "text": [
      "r= -0.0427188602039294\n",
      "pvalue=  0.54306896466388\n"
     ]
    }
   ],
   "source": [
    "#symboling vs price:\n",
    "r, pvalue = pearsonr(final_data.PriceClass, final_data.SBClass)\n",
    "print ('r=', r)\n",
    "print('pvalue= ', pvalue)"
   ]
  },
  {
   "cell_type": "markdown",
   "id": "b73837c2",
   "metadata": {},
   "source": [
    "Giả sử giá trị alpha = 0.05, pvalue = 0.54306896466388 > alpha -> Hai thuộc tính không có quan hệ."
   ]
  },
  {
   "cell_type": "code",
   "execution_count": 562,
   "id": "eb6eedb0",
   "metadata": {},
   "outputs": [
    {
     "name": "stdout",
     "output_type": "stream",
     "text": [
      "r= 0.6539044307015277\n",
      "pvalue=  2.1704809441131175e-26\n"
     ]
    }
   ],
   "source": [
    "#Length vs price:\n",
    "r, pvalue = pearsonr(final_data.PriceClass, final_data.LengthClass)\n",
    "print ('r=', r)\n",
    "print('pvalue= ', pvalue)"
   ]
  },
  {
   "cell_type": "markdown",
   "id": "a1029a3a",
   "metadata": {},
   "source": [
    "Giả sử giá trị alpha = 0.05, pvalue = 2.1704809441131175e-26 < alpha -> Hai thuộc tính có quan hệ."
   ]
  },
  {
   "cell_type": "code",
   "execution_count": 563,
   "id": "9ac49783",
   "metadata": {},
   "outputs": [
    {
     "name": "stdout",
     "output_type": "stream",
     "text": [
      "r= 0.7409609620847804\n",
      "pvalue=  5.926456649647756e-37\n"
     ]
    }
   ],
   "source": [
    "#Width vs price:\n",
    "r, pvalue = pearsonr(final_data.PriceClass, final_data.WidthClass)\n",
    "print ('r=', r)\n",
    "print('pvalue= ', pvalue)"
   ]
  },
  {
   "cell_type": "markdown",
   "id": "8e7567a3",
   "metadata": {},
   "source": [
    "Giả sử giá trị alpha = 0.05, pvalue = 5.926456649647756e-37 < alpha -> Hai thuộc tính có quan hệ."
   ]
  },
  {
   "cell_type": "code",
   "execution_count": 564,
   "id": "a8d8b2b8",
   "metadata": {},
   "outputs": [
    {
     "name": "stdout",
     "output_type": "stream",
     "text": [
      "r= 0.22318149620464559\n",
      "pvalue=  0.001297181440673513\n"
     ]
    }
   ],
   "source": [
    "#Height vs price:\n",
    "r, pvalue = pearsonr(final_data.PriceClass, final_data.HeightClass)\n",
    "print ('r=', r)\n",
    "print('pvalue= ', pvalue)"
   ]
  },
  {
   "cell_type": "markdown",
   "id": "83ac8154",
   "metadata": {},
   "source": [
    "Giả sử giá trị alpha = 0.05, pvalue = 0.001297181440673513 < alpha -> Hai thuộc tính có quan hệ."
   ]
  },
  {
   "cell_type": "code",
   "execution_count": 701,
   "id": "b0c34442",
   "metadata": {},
   "outputs": [
    {
     "name": "stdout",
     "output_type": "stream",
     "text": [
      "r= 0.8066935416161498\n",
      "pvalue=  2.934950812010482e-48\n"
     ]
    }
   ],
   "source": [
    "#Curbweight vs price:\n",
    "r, pvalue = pearsonr(final_data.PriceClass, final_data.CurbClass)\n",
    "print ('r=', r)\n",
    "print('pvalue= ', pvalue)"
   ]
  },
  {
   "cell_type": "markdown",
   "id": "ed1ee73e",
   "metadata": {},
   "source": [
    "Giả sử giá trị alpha = 0.05, pvalue = 3.769510923926909e-49 < alpha -> Hai thuộc tính có quan hệ."
   ]
  },
  {
   "cell_type": "code",
   "execution_count": 566,
   "id": "1541e1d1",
   "metadata": {},
   "outputs": [
    {
     "name": "stdout",
     "output_type": "stream",
     "text": [
      "r= 0.7474601185480595\n",
      "pvalue=  6.50491799509457e-38\n"
     ]
    }
   ],
   "source": [
    "#EngineClass vs price: (Kích thước động cơ)\n",
    "r, pvalue = pearsonr(final_data.PriceClass, final_data.EngineClass)\n",
    "print ('r=', r)\n",
    "print('pvalue= ', pvalue)"
   ]
  },
  {
   "cell_type": "markdown",
   "id": "3d875b09",
   "metadata": {},
   "source": [
    "Giả sử giá trị alpha = 0.05, pvalue = 6.50491799509457e-38 < alpha -> Hai thuộc tính có quan hệ."
   ]
  },
  {
   "cell_type": "code",
   "execution_count": 567,
   "id": "f7144d48",
   "metadata": {},
   "outputs": [
    {
     "name": "stdout",
     "output_type": "stream",
     "text": [
      "r= 0.5504116077513846\n",
      "pvalue=  1.239729373385835e-17\n"
     ]
    }
   ],
   "source": [
    "#BoreRatio vs price: (tỷ số hành trình)\n",
    "r, pvalue = pearsonr(final_data.PriceClass, final_data.BoreRatioClass)\n",
    "print ('r=', r)\n",
    "print('pvalue= ', pvalue)"
   ]
  },
  {
   "cell_type": "markdown",
   "id": "99aa496d",
   "metadata": {},
   "source": [
    "Giả sử giá trị alpha = 0.05, pvalue = 6.50491799509457e-38 < alpha -> Hai thuộc tính có quan hệ."
   ]
  },
  {
   "cell_type": "code",
   "execution_count": 568,
   "id": "2e5863f5",
   "metadata": {},
   "outputs": [
    {
     "name": "stdout",
     "output_type": "stream",
     "text": [
      "r= 0.11274196251842704\n",
      "pvalue=  0.10751047688286408\n"
     ]
    }
   ],
   "source": [
    "#StrokeClass vs price: (Số kỳ)\n",
    "r, pvalue = pearsonr(final_data.PriceClass, final_data.StrokeClass)\n",
    "print ('r=', r)\n",
    "print('pvalue= ', pvalue)"
   ]
  },
  {
   "cell_type": "markdown",
   "id": "bd03f1b7",
   "metadata": {},
   "source": [
    "Giả sử giá trị alpha = 0.05, pvalue = 0.10751047688286408 > alpha -> Hai thuộc tính không có quan hệ."
   ]
  },
  {
   "cell_type": "code",
   "execution_count": 569,
   "id": "0a675f40",
   "metadata": {},
   "outputs": [
    {
     "name": "stdout",
     "output_type": "stream",
     "text": [
      "r= -0.12340772394257646\n",
      "pvalue=  0.07792240104346423\n"
     ]
    }
   ],
   "source": [
    "#CompressionClass vs price: (Tỷ số nén)\n",
    "r, pvalue = pearsonr(final_data.PriceClass, final_data.CompressionClass)\n",
    "print ('r=', r)\n",
    "print('pvalue= ', pvalue)"
   ]
  },
  {
   "cell_type": "markdown",
   "id": "8b4ddbf2",
   "metadata": {},
   "source": [
    "Giả sử giá trị alpha = 0.05, pvalue = 0.07792240104346423 > alpha -> Hai thuộc tính không có quan hệ."
   ]
  },
  {
   "cell_type": "code",
   "execution_count": 570,
   "id": "a54bbfc0",
   "metadata": {},
   "outputs": [
    {
     "data": {
      "image/png": "[encoded data removed]",
      "text/plain": [
       "<Figure size 360x360 with 1 Axes>"
      ]
     },
     "metadata": {
      "needs_background": "light"
     },
     "output_type": "display_data"
    }
   ],
   "source": [
    "#Horsepower vs price:\n",
    "sns.lmplot(x='horsepower', y='price', data=final_data)\n",
    "plt.show()"
   ]
  },
  {
   "cell_type": "code",
   "execution_count": null,
   "id": "3fe686bd",
   "metadata": {},
   "outputs": [],
   "source": []
  },
  {
   "cell_type": "code",
   "execution_count": 571,
   "id": "fc507c28",
   "metadata": {},
   "outputs": [
    {
     "data": {
      "image/png": "[encoded data removed]",
      "text/plain": [
       "<Figure size 360x360 with 1 Axes>"
      ]
     },
     "metadata": {
      "needs_background": "light"
     },
     "output_type": "display_data"
    }
   ],
   "source": [
    "#Carlength vs price:\n",
    "sns.lmplot(x='carlength', y='price', data=final_data)\n",
    "plt.show()"
   ]
  },
  {
   "cell_type": "code",
   "execution_count": 572,
   "id": "9120c961",
   "metadata": {},
   "outputs": [
    {
     "data": {
      "image/png": "[encoded data removed]",
      "text/plain": [
       "<Figure size 360x360 with 1 Axes>"
      ]
     },
     "metadata": {
      "needs_background": "light"
     },
     "output_type": "display_data"
    }
   ],
   "source": [
    "#CarWidth vs price:\n",
    "sns.lmplot(x='carwidth', y='price', data=final_data)\n",
    "plt.show()"
   ]
  },
  {
   "cell_type": "code",
   "execution_count": 573,
   "id": "a040a47c",
   "metadata": {},
   "outputs": [
    {
     "data": {
      "image/png": "[encoded data removed]",
      "text/plain": [
       "<Figure size 360x360 with 1 Axes>"
      ]
     },
     "metadata": {
      "needs_background": "light"
     },
     "output_type": "display_data"
    }
   ],
   "source": [
    "#carheight vs price:\n",
    "sns.lmplot(x='carheight', y='price', data=final_data)\n",
    "plt.show()"
   ]
  },
  {
   "cell_type": "code",
   "execution_count": 574,
   "id": "44165237",
   "metadata": {},
   "outputs": [
    {
     "data": {
      "image/png": "[encoded data removed]",
      "text/plain": [
       "<Figure size 360x360 with 1 Axes>"
      ]
     },
     "metadata": {
      "needs_background": "light"
     },
     "output_type": "display_data"
    }
   ],
   "source": [
    "#curbweight vs price:\n",
    "sns.lmplot(x='curbweight', y='price', data=final_data)\n",
    "plt.show()"
   ]
  },
  {
   "cell_type": "code",
   "execution_count": 575,
   "id": "50fa13ab",
   "metadata": {},
   "outputs": [
    {
     "data": {
      "image/png": "[encoded data removed]",
      "text/plain": [
       "<Figure size 360x360 with 1 Axes>"
      ]
     },
     "metadata": {
      "needs_background": "light"
     },
     "output_type": "display_data"
    }
   ],
   "source": [
    "#enginesize vs price:\n",
    "sns.lmplot(x='enginesize', y='price', data=final_data)\n",
    "plt.show()"
   ]
  },
  {
   "cell_type": "code",
   "execution_count": 576,
   "id": "ac4be324",
   "metadata": {},
   "outputs": [
    {
     "data": {
      "image/png": "[encoded data removed]",
      "text/plain": [
       "<Figure size 360x360 with 1 Axes>"
      ]
     },
     "metadata": {
      "needs_background": "light"
     },
     "output_type": "display_data"
    }
   ],
   "source": [
    "#boreratio vs price:\n",
    "sns.lmplot(x='boreratio', y='price', data=final_data)\n",
    "plt.show()"
   ]
  },
  {
   "cell_type": "code",
   "execution_count": 577,
   "id": "b04599d8",
   "metadata": {},
   "outputs": [
    {
     "data": {
      "image/png": "[encoded data removed]",
      "text/plain": [
       "<Figure size 360x360 with 1 Axes>"
      ]
     },
     "metadata": {
      "needs_background": "light"
     },
     "output_type": "display_data"
    }
   ],
   "source": [
    "#stroke vs price:\n",
    "sns.lmplot(x='stroke', y='price', data=final_data)\n",
    "plt.show()"
   ]
  },
  {
   "cell_type": "code",
   "execution_count": 578,
   "id": "34900465",
   "metadata": {},
   "outputs": [
    {
     "data": {
      "image/png": "[encoded data removed]",
      "text/plain": [
       "<Figure size 360x360 with 1 Axes>"
      ]
     },
     "metadata": {
      "needs_background": "light"
     },
     "output_type": "display_data"
    }
   ],
   "source": [
    "#compression ratio vs price:\n",
    "sns.lmplot(x='compressionratio', y='price', data=final_data)\n",
    "plt.show()"
   ]
  },
  {
   "cell_type": "code",
   "execution_count": 579,
   "id": "fad7baee",
   "metadata": {},
   "outputs": [
    {
     "data": {
      "image/png": "[encoded data removed]",
      "text/plain": [
       "<Figure size 360x360 with 1 Axes>"
      ]
     },
     "metadata": {
      "needs_background": "light"
     },
     "output_type": "display_data"
    }
   ],
   "source": [
    "#peakrpm vs price:\n",
    "sns.lmplot(x='peakrpm', y='price', data=final_data)\n",
    "plt.show()"
   ]
  },
  {
   "cell_type": "code",
   "execution_count": 580,
   "id": "90038ba2",
   "metadata": {},
   "outputs": [
    {
     "data": {
      "image/png": "[encoded data removed]",
      "text/plain": [
       "<Figure size 360x360 with 1 Axes>"
      ]
     },
     "metadata": {
      "needs_background": "light"
     },
     "output_type": "display_data"
    }
   ],
   "source": [
    "#citympg vs price:\n",
    "sns.lmplot(x='citympg', y='price', data=final_data)\n",
    "plt.show()"
   ]
  },
  {
   "cell_type": "code",
   "execution_count": 581,
   "id": "9d504592",
   "metadata": {},
   "outputs": [
    {
     "data": {
      "image/png": "[encoded data removed]",
      "text/plain": [
       "<Figure size 360x360 with 1 Axes>"
      ]
     },
     "metadata": {
      "needs_background": "light"
     },
     "output_type": "display_data"
    }
   ],
   "source": [
    "#highwaympg vs price:\n",
    "sns.lmplot(x='highwaympg', y='price', data=final_data)\n",
    "plt.show()"
   ]
  },
  {
   "cell_type": "code",
   "execution_count": 700,
   "id": "230288b2",
   "metadata": {},
   "outputs": [
    {
     "data": {
      "image/png": "[encoded data removed]",
      "text/plain": [
       "<Figure size 432x288 with 1 Axes>"
      ]
     },
     "metadata": {
      "needs_background": "light"
     },
     "output_type": "display_data"
    }
   ],
   "source": [
    "#Tương quan giữa hãng xe và giá xe\n",
    "BrandName = final_data.BrandName\n",
    "sns.countplot(y=BrandName, data=BrandName_data)\n",
    "plt.show()"
   ]
  },
  {
   "cell_type": "code",
   "execution_count": 583,
   "id": "bcfa5da5",
   "metadata": {},
   "outputs": [
    {
     "data": {
      "image/png": "[encoded data removed]",
      "text/plain": [
       "<Figure size 432x288 with 1 Axes>"
      ]
     },
     "metadata": {
      "needs_background": "light"
     },
     "output_type": "display_data"
    }
   ],
   "source": [
    "#Tương quan giữa loại nhiên liệu và giá xe\n",
    "fueltype = final_data.fueltype\n",
    "fueltype_data = final_data[['fueltype', 'price']]\n",
    "sns.countplot(y=fueltype, data=fueltype_data, orient='h')\n",
    "plt.show()"
   ]
  },
  {
   "cell_type": "code",
   "execution_count": 584,
   "id": "fab408e6",
   "metadata": {},
   "outputs": [
    {
     "data": {
      "image/png": "[encoded data removed]",
      "text/plain": [
       "<Figure size 432x288 with 1 Axes>"
      ]
     },
     "metadata": {
      "needs_background": "light"
     },
     "output_type": "display_data"
    }
   ],
   "source": [
    "#Tương quan giữa loại hút và giá xe \n",
    "aspiration = final_data.aspiration\n",
    "aspiration_data = final_data[['aspiration', 'price']]\n",
    "sns.countplot(y=aspiration, data=aspiration_data, orient='h')\n",
    "plt.show()"
   ]
  },
  {
   "cell_type": "code",
   "execution_count": 585,
   "id": "b99dd803",
   "metadata": {},
   "outputs": [
    {
     "data": {
      "image/png": "[encoded data removed]",
      "text/plain": [
       "<Figure size 432x288 with 1 Axes>"
      ]
     },
     "metadata": {
      "needs_background": "light"
     },
     "output_type": "display_data"
    }
   ],
   "source": [
    "#Tương quan giữa số cửa và giá xe\n",
    "doornumber = final_data.doornumber\n",
    "doornumber_data = final_data[['doornumber', 'price']]\n",
    "sns.countplot(y=doornumber, data=doornumber_data, orient='h')\n",
    "plt.show()"
   ]
  },
  {
   "cell_type": "code",
   "execution_count": 586,
   "id": "4ff66fac",
   "metadata": {},
   "outputs": [
    {
     "data": {
      "image/png": "[encoded data removed]",
      "text/plain": [
       "<Figure size 432x288 with 1 Axes>"
      ]
     },
     "metadata": {
      "needs_background": "light"
     },
     "output_type": "display_data"
    }
   ],
   "source": [
    "#Tương quan giữa loại thân xe và giá xe\n",
    "carbody = final_data.carbody\n",
    "carbody_data = final_data[['carbody', 'price']]\n",
    "sns.countplot(y=carbody, data=carbody_data , orient='h')\n",
    "plt.show()"
   ]
  },
  {
   "cell_type": "code",
   "execution_count": 587,
   "id": "656f6b4c",
   "metadata": {},
   "outputs": [
    {
     "data": {
      "image/png": "[encoded data removed]",
      "text/plain": [
       "<Figure size 432x288 with 1 Axes>"
      ]
     },
     "metadata": {
      "needs_background": "light"
     },
     "output_type": "display_data"
    }
   ],
   "source": [
    "#Tương quan giữa loại bánh xe và giá xe\n",
    "drivewheel = final_data.drivewheel\n",
    "drivewheel_data = final_data[['drivewheel', 'price']]\n",
    "sns.countplot(y=drivewheel, data=drivewheel_data , orient='h')\n",
    "plt.show()"
   ]
  },
  {
   "cell_type": "code",
   "execution_count": 588,
   "id": "fc77c725",
   "metadata": {},
   "outputs": [
    {
     "data": {
      "image/png": "[encoded data removed]",
      "text/plain": [
       "<Figure size 432x288 with 1 Axes>"
      ]
     },
     "metadata": {
      "needs_background": "light"
     },
     "output_type": "display_data"
    }
   ],
   "source": [
    "#Tương quan giữa vị trí động cơ và giá xe\n",
    "enginelocation = final_data.enginelocation\n",
    "enginelocation_data = final_data[['enginelocation', 'price']]\n",
    "sns.countplot(y=enginelocation, data=enginelocation_data , orient='h')\n",
    "plt.show()"
   ]
  },
  {
   "cell_type": "code",
   "execution_count": 589,
   "id": "a4cf3762",
   "metadata": {},
   "outputs": [
    {
     "data": {
      "image/png": "[encoded data removed]",
      "text/plain": [
       "<Figure size 432x288 with 1 Axes>"
      ]
     },
     "metadata": {
      "needs_background": "light"
     },
     "output_type": "display_data"
    }
   ],
   "source": [
    "#Tương quan giữa số xi lanh và giá xe\n",
    "cylindernumber = final_data.cylindernumber\n",
    "cylindernumber_data = final_data[['cylindernumber', 'price']]\n",
    "sns.countplot(y=cylindernumber, data=cylindernumber_data , orient='h')\n",
    "plt.show()"
   ]
  },
  {
   "cell_type": "code",
   "execution_count": 712,
   "id": "8baf363c",
   "metadata": {},
   "outputs": [
    {
     "name": "stdout",
     "output_type": "stream",
     "text": [
      "<class 'pandas.core.frame.DataFrame'>\n",
      "RangeIndex: 205 entries, 0 to 204\n",
      "Data columns (total 52 columns):\n",
      " #   Column               Non-Null Count  Dtype  \n",
      "---  ------               --------------  -----  \n",
      " 0   car_ID               205 non-null    int64  \n",
      " 1   symboling            205 non-null    int64  \n",
      " 2   CarName              205 non-null    object \n",
      " 3   fueltype             205 non-null    object \n",
      " 4   aspiration           205 non-null    object \n",
      " 5   doornumber           205 non-null    object \n",
      " 6   carbody              205 non-null    object \n",
      " 7   drivewheel           205 non-null    object \n",
      " 8   enginelocation       205 non-null    object \n",
      " 9   wheelbase            205 non-null    float64\n",
      " 10  carlength            205 non-null    float64\n",
      " 11  carwidth             205 non-null    float64\n",
      " 12  carheight            205 non-null    float64\n",
      " 13  curbweight           205 non-null    int64  \n",
      " 14  enginetype           205 non-null    object \n",
      " 15  cylindernumber       205 non-null    object \n",
      " 16  enginesize           205 non-null    int64  \n",
      " 17  fuelsystem           205 non-null    object \n",
      " 18  boreratio            205 non-null    float64\n",
      " 19  stroke               205 non-null    float64\n",
      " 20  compressionratio     205 non-null    float64\n",
      " 21  horsepower           205 non-null    int64  \n",
      " 22  peakrpm              205 non-null    int64  \n",
      " 23  citympg              205 non-null    int64  \n",
      " 24  highwaympg           205 non-null    int64  \n",
      " 25  price                205 non-null    float64\n",
      " 26  BrandName            205 non-null    object \n",
      " 27  model                203 non-null    object \n",
      " 28  AddInfo              65 non-null     object \n",
      " 29  FuelTypeClass        205 non-null    int64  \n",
      " 30  AspirationTypeClass  205 non-null    int64  \n",
      " 31  DoorNumberClass      205 non-null    int64  \n",
      " 32  CarbodyClass         205 non-null    int64  \n",
      " 33  DriveWheelClass      205 non-null    int64  \n",
      " 34  EngineLocationType   205 non-null    int64  \n",
      " 35  PriceClass           205 non-null    int8   \n",
      " 36  WBClass              205 non-null    float64\n",
      " 37  HPClass              205 non-null    float64\n",
      " 38  PeakClass            205 non-null    int8   \n",
      " 39  CPGClass             205 non-null    int8   \n",
      " 40  HPGClass             205 non-null    int8   \n",
      " 41  SBClass              205 non-null    int8   \n",
      " 42  LengthClass          205 non-null    float64\n",
      " 43  WidthClass           205 non-null    float64\n",
      " 44  HeightClass          205 non-null    int8   \n",
      " 45  CurbClass            205 non-null    int8   \n",
      " 46  EngineClass          205 non-null    float64\n",
      " 47  BoreRatiocClass      205 non-null    int8   \n",
      " 48  StrokeClass          205 non-null    int8   \n",
      " 49  CompressionClass     205 non-null    int8   \n",
      " 50  EngineSizeClass      205 non-null    int8   \n",
      " 51  BrandCode            205 non-null    int64  \n",
      "dtypes: float64(13), int64(15), int8(11), object(13)\n",
      "memory usage: 68.0+ KB\n"
     ]
    }
   ],
   "source": [
    "final_data.info()"
   ]
  },
  {
   "attachments": {},
   "cell_type": "markdown",
   "id": "e648d1c8",
   "metadata": {},
   "source": [
    "STT\tYếu tố\tr\tpvalue\tTương quan với giá\n",
    "1\tPeakrpm\t-0.0145\t0.835\t\n",
    "2\tWheelbase\t0.5440\t3.02e-17\tCó tương quan\n",
    "3\tHorsepower\t0.7780\t6.724-43\tCó tương quan\n",
    "4\tCitympg\t-0.7380\t1.235-36\t\n",
    "5\tHighwaympg\t-0.5680\t5.901-19\t\n",
    "6\tSymboling\t-0.0427\t0.543\t\n",
    "7\tLength\t0.6530\t2.170e-26\tCó tương quan\n",
    "8\tWidth\t0.7400\t5.926e-37\tCó tương quan\n",
    "9\tHeight\t0.2230\t0.001\tCó tương quan\n",
    "10\tCurbweight\t0.8110\t3.769e-49\tCó tương quan\n",
    "11\tEnginesize\t0.7470\t6.504e-38\tCó tương quan\n",
    "12\tBore ratio\t0.5500\t1.239e-17\tCó tương quan\n",
    "13\tStroke\t0.1120\t0.107\tCó tương quan\n",
    "14\tCompression\t-0.1230\t0.0779\t\n",
    "15\tfuel type\t-0.1310\t0.061\t\n",
    "16\taspiration type\t0.2450\t0.0003\tCó tương quan\n",
    "17\tdoor number\t-0.0640\t0.355\t\n",
    "18\tcarbody type\t-0.0520\t0.454\t\n",
    "19\tdrivewheel type\t0.5760\t1.374e-19\tCó tương quan\n",
    "20\tEngine location\t0.2760\t6.042e-05\tCó tương quan\n",
    "21\tBrand name\t-0.1270\t0.068\t!"
   ]
  },
  {
   "cell_type": "code",
   "execution_count": 591,
   "id": "0cb06259",
   "metadata": {},
   "outputs": [],
   "source": [
    "from sklearn.linear_model import LinearRegression\n",
    "import matplotlib.pyplot as plt"
   ]
  },
  {
   "cell_type": "code",
   "execution_count": 714,
   "id": "5bbefef8",
   "metadata": {},
   "outputs": [
    {
     "data": {
      "text/html": [
       "<div>\n",
       "<style scoped>\n",
       "    .dataframe tbody tr th:only-of-type {\n",
       "        vertical-align: middle;\n",
       "    }\n",
       "\n",
       "    .dataframe tbody tr th {\n",
       "        vertical-align: top;\n",
       "    }\n",
       "\n",
       "    .dataframe thead th {\n",
       "        text-align: right;\n",
       "    }\n",
       "</style>\n",
       "<table border=\"1\" class=\"dataframe\">\n",
       "  <thead>\n",
       "    <tr style=\"text-align: right;\">\n",
       "      <th></th>\n",
       "      <th>HPClass</th>\n",
       "      <th>LengthClass</th>\n",
       "      <th>WidthClass</th>\n",
       "      <th>CurbClass</th>\n",
       "      <th>EngineClass</th>\n",
       "      <th>PriceClass</th>\n",
       "    </tr>\n",
       "  </thead>\n",
       "  <tbody>\n",
       "    <tr>\n",
       "      <th>0</th>\n",
       "      <td>1.0</td>\n",
       "      <td>3.0</td>\n",
       "      <td>3.0</td>\n",
       "      <td>2</td>\n",
       "      <td>2.0</td>\n",
       "      <td>2</td>\n",
       "    </tr>\n",
       "    <tr>\n",
       "      <th>1</th>\n",
       "      <td>1.0</td>\n",
       "      <td>3.0</td>\n",
       "      <td>3.0</td>\n",
       "      <td>2</td>\n",
       "      <td>2.0</td>\n",
       "      <td>2</td>\n",
       "    </tr>\n",
       "    <tr>\n",
       "      <th>2</th>\n",
       "      <td>1.0</td>\n",
       "      <td>3.0</td>\n",
       "      <td>3.0</td>\n",
       "      <td>2</td>\n",
       "      <td>2.0</td>\n",
       "      <td>2</td>\n",
       "    </tr>\n",
       "    <tr>\n",
       "      <th>3</th>\n",
       "      <td>1.0</td>\n",
       "      <td>3.0</td>\n",
       "      <td>3.0</td>\n",
       "      <td>1</td>\n",
       "      <td>2.0</td>\n",
       "      <td>2</td>\n",
       "    </tr>\n",
       "    <tr>\n",
       "      <th>4</th>\n",
       "      <td>1.0</td>\n",
       "      <td>3.0</td>\n",
       "      <td>3.0</td>\n",
       "      <td>2</td>\n",
       "      <td>2.0</td>\n",
       "      <td>3</td>\n",
       "    </tr>\n",
       "    <tr>\n",
       "      <th>...</th>\n",
       "      <td>...</td>\n",
       "      <td>...</td>\n",
       "      <td>...</td>\n",
       "      <td>...</td>\n",
       "      <td>...</td>\n",
       "      <td>...</td>\n",
       "    </tr>\n",
       "    <tr>\n",
       "      <th>200</th>\n",
       "      <td>1.0</td>\n",
       "      <td>3.0</td>\n",
       "      <td>3.0</td>\n",
       "      <td>3</td>\n",
       "      <td>2.0</td>\n",
       "      <td>3</td>\n",
       "    </tr>\n",
       "    <tr>\n",
       "      <th>201</th>\n",
       "      <td>1.0</td>\n",
       "      <td>3.0</td>\n",
       "      <td>3.0</td>\n",
       "      <td>3</td>\n",
       "      <td>2.0</td>\n",
       "      <td>3</td>\n",
       "    </tr>\n",
       "    <tr>\n",
       "      <th>202</th>\n",
       "      <td>1.0</td>\n",
       "      <td>3.0</td>\n",
       "      <td>3.0</td>\n",
       "      <td>3</td>\n",
       "      <td>2.0</td>\n",
       "      <td>3</td>\n",
       "    </tr>\n",
       "    <tr>\n",
       "      <th>203</th>\n",
       "      <td>1.0</td>\n",
       "      <td>3.0</td>\n",
       "      <td>3.0</td>\n",
       "      <td>3</td>\n",
       "      <td>2.0</td>\n",
       "      <td>3</td>\n",
       "    </tr>\n",
       "    <tr>\n",
       "      <th>204</th>\n",
       "      <td>1.0</td>\n",
       "      <td>3.0</td>\n",
       "      <td>3.0</td>\n",
       "      <td>3</td>\n",
       "      <td>2.0</td>\n",
       "      <td>3</td>\n",
       "    </tr>\n",
       "  </tbody>\n",
       "</table>\n",
       "<p>205 rows × 6 columns</p>\n",
       "</div>"
      ],
      "text/plain": [
       "     HPClass  LengthClass  WidthClass  CurbClass  EngineClass  PriceClass\n",
       "0        1.0          3.0         3.0          2          2.0           2\n",
       "1        1.0          3.0         3.0          2          2.0           2\n",
       "2        1.0          3.0         3.0          2          2.0           2\n",
       "3        1.0          3.0         3.0          1          2.0           2\n",
       "4        1.0          3.0         3.0          2          2.0           3\n",
       "..       ...          ...         ...        ...          ...         ...\n",
       "200      1.0          3.0         3.0          3          2.0           3\n",
       "201      1.0          3.0         3.0          3          2.0           3\n",
       "202      1.0          3.0         3.0          3          2.0           3\n",
       "203      1.0          3.0         3.0          3          2.0           3\n",
       "204      1.0          3.0         3.0          3          2.0           3\n",
       "\n",
       "[205 rows x 6 columns]"
      ]
     },
     "execution_count": 714,
     "metadata": {},
     "output_type": "execute_result"
    }
   ],
   "source": [
    "#Đánh giá những thuộc tính có tương quan lớn nhất với giá\n",
    "reg_data = final_data[['HPClass','LengthClass','WidthClass','CurbClass','EngineClass', 'PriceClass']]\n",
    "reg_data"
   ]
  },
  {
   "cell_type": "code",
   "execution_count": 602,
   "id": "6cec6d11",
   "metadata": {},
   "outputs": [],
   "source": [
    "#Hồi quy tuyến tính\n",
    "X = reg_data.iloc[:, :-1].values.reshape(-1,5)\n",
    "y = reg_data.iloc[:, -1].ravel()"
   ]
  },
  {
   "cell_type": "code",
   "execution_count": 717,
   "id": "24a5ca05",
   "metadata": {},
   "outputs": [
    {
     "data": {
      "text/plain": [
       "array([ 2,  2,  2,  2,  3,  2,  3,  3,  4,  3,  2,  3,  3,  3,  4,  5,  6,\n",
       "        5, -1,  0,  0,  0,  0,  1,  0,  0,  0,  1,  1,  2,  0,  0,  0,  0,\n",
       "        0,  0,  0,  1,  1,  1,  1,  2,  2,  0,  1,  1,  2,  5,  5,  5, -1,\n",
       "        0,  0,  0,  0,  2,  2,  2,  2,  1,  1,  2,  1,  2,  2,  3,  3,  4,\n",
       "        4,  4,  5,  5,  5,  6,  6,  2,  0,  0,  0,  0,  1,  1,  2,  2,  2,\n",
       "        0,  1,  1,  1,  0,  0,  0,  0,  0,  0,  0,  0,  1,  1,  1,  1,  2,\n",
       "        2,  2,  3,  3,  3,  2,  2,  2,  2,  2,  3,  3,  3,  3,  3,  3,  0,\n",
       "        1,  0,  0,  0,  1,  2,  3,  5,  5,  5,  5,  1,  1,  2,  2,  2,  2,\n",
       "        3,  3, -1,  0,  0,  0,  0,  1,  1,  2,  0,  1,  1,  2,  0,  0,  0,\n",
       "        0,  1,  1,  0,  0,  1,  0,  0,  1,  1,  1,  1,  1,  1,  1,  1,  1,\n",
       "        2,  2,  3,  1,  2,  1,  2,  2,  2,  2,  2,  2,  0,  1,  1,  1,  1,\n",
       "        1,  1,  2,  1,  2,  2,  2,  2,  2,  2,  2,  3,  3,  3,  3,  3,  3,\n",
       "        3], dtype=int8)"
      ]
     },
     "execution_count": 717,
     "metadata": {},
     "output_type": "execute_result"
    }
   ],
   "source": [
    "y"
   ]
  },
  {
   "cell_type": "code",
   "execution_count": 718,
   "id": "05c49973",
   "metadata": {},
   "outputs": [
    {
     "data": {
      "text/plain": [
       "array([[2, 0, 1, 0, 2, 2],\n",
       "       [2, 0, 1, 0, 2, 2],\n",
       "       [3, 0, 1, 1, 2, 3],\n",
       "       ...,\n",
       "       [3, 3, 3, 3, 3, 3],\n",
       "       [2, 3, 3, 3, 3, 3],\n",
       "       [2, 3, 3, 3, 3, 2]], dtype=int8)"
      ]
     },
     "execution_count": 718,
     "metadata": {},
     "output_type": "execute_result"
    }
   ],
   "source": [
    "X"
   ]
  },
  {
   "cell_type": "code",
   "execution_count": 719,
   "id": "de8a67bf",
   "metadata": {},
   "outputs": [
    {
     "data": {
      "text/plain": [
       "LinearRegression()"
      ]
     },
     "execution_count": 719,
     "metadata": {},
     "output_type": "execute_result"
    }
   ],
   "source": [
    "model = LinearRegression()\n",
    "model.fit(X, y)"
   ]
  },
  {
   "cell_type": "code",
   "execution_count": 720,
   "id": "941c0939",
   "metadata": {},
   "outputs": [
    {
     "name": "stdout",
     "output_type": "stream",
     "text": [
      "The linear model is: \n",
      " Y = -0.11053472365765371 +        0.42937040990372105*X1 + -0.014337551215484523*X2 +         -0.1964083151614887*X3 + 0.28748621522564555*X4 +         0.5770222671452704*X5\n"
     ]
    }
   ],
   "source": [
    "print(f'The linear model is: \\n Y = {model.intercept_} +\\\n",
    "        {model.coef_[0]}*X1 + {model.coef_[1]}*X2 + \\\n",
    "        {model.coef_[2]}*X3 + {model.coef_[3]}*X4 + \\\n",
    "        {model.coef_[4]}*X5')"
   ]
  },
  {
   "cell_type": "code",
   "execution_count": 732,
   "id": "b3e88cc9",
   "metadata": {},
   "outputs": [
    {
     "name": "stdout",
     "output_type": "stream",
     "text": [
      "Nhập loại công suất: 0\n",
      "Nhập loại chiều dài: 0\n",
      "Nhập loại chiều rộng: 0\n",
      "Nhập loại khối lượng: 0\n",
      "Nhập loại động cơ: 0\n",
      "Giá bán dự đoán là:  0      1.043510\n",
      "1      1.043510\n",
      "2      1.043510\n",
      "3      0.466488\n",
      "4      1.043510\n",
      "         ...   \n",
      "200    1.620532\n",
      "201    1.620532\n",
      "202    1.620532\n",
      "203    1.620532\n",
      "204    1.620532\n",
      "Length: 205, dtype: float64\n"
     ]
    }
   ],
   "source": [
    "HPClass = float(input('Nhập loại công suất: '))\n",
    "LengthClass = float(input('Nhập loại chiều dài: '))\n",
    "WidthClass = float(input('Nhập loại chiều rộng: '))\n",
    "CurbtClass = float(input('Nhập loại khối lượng: '))\n",
    "EngineClass = float(input('Nhập loại động cơ: '))\n",
    "Price = model.intercept_ + model.coef_[0]*HPClass + model.coef_[2]*LengthClass + model.coef_[3]*WidthClass + model.coef_[4]*CurbClass + model.coef_[5]*EngineClass\n",
    "print('Giá bán dự đoán là: ', Price)"
   ]
  },
  {
   "cell_type": "code",
   "execution_count": 728,
   "id": "37c98f10",
   "metadata": {},
   "outputs": [
    {
     "data": {
      "text/plain": [
       "0.736950003186317"
      ]
     },
     "execution_count": 728,
     "metadata": {},
     "output_type": "execute_result"
    }
   ],
   "source": [
    "#Đánh giá mô hình\n",
    "model.score(X, y)"
   ]
  },
  {
   "cell_type": "markdown",
   "id": "e5b3800d",
   "metadata": {},
   "source": [
    "CÁC KHUNG MỨC GIÁ XE:\n",
    "Categories (7, interval[int64, right]): [(5100, 7800] < (7800, 10300] < (10300, 16600] < (16600, 23000] < (23000, 30000] < (30000, 40000] < (40000, 45500]]\n",
    "Các tầm giá:\n",
    "0 = 5100 đến <7800\n",
    "1 = 7800 đến <10300\n",
    "2 = 10300 đến <16600\n",
    "3 = 16600 đến <23000\n",
    "4 = 23000 đến < 30000\n",
    "5 = 30000 đến < 40000\n",
    "6 = 40000 đến < 45500\n"
   ]
  },
  {
   "cell_type": "markdown",
   "id": "601b52fb",
   "metadata": {},
   "source": [
    "KHUNG CÔNG SUẤT XE\n",
    "Name: horsepower, Length: 205, dtype: category\n",
    "Categories (4, interval[int64, right]): [(48, 70] < (70, 95] < (95, 116] < (116, 288]]\n",
    "Khung công suất:\n",
    "0 = 48 đến <70\n",
    "1 = 70 đến <95\n",
    "2 = 95 đến <116\n",
    "3 = 116 đến <288"
   ]
  },
  {
   "cell_type": "markdown",
   "id": "b8c0a803",
   "metadata": {},
   "source": [
    "KHUNG CHIỀU DÀI XE\n",
    "Name: carlength, Length: 205, dtype: category\n",
    "Categories (4, interval[int64, right]): [(141, 166] < (166, 173] < (173, 183] < (183, 208]]\n",
    "Khung chiều dài:\n",
    "0 = 141 đến <166\n",
    "1 = 166 đến <173\n",
    "2 = 173 đến <183\n",
    "3 = 183 đến <208"
   ]
  },
  {
   "cell_type": "markdown",
   "id": "c3f64c16",
   "metadata": {},
   "source": [
    "KHUNG CHIỀU RỘNG XE\n",
    "Name: carwidth, Length: 205, dtype: category\n",
    "Categories (4, interval[float64, right]): [(60.3, 64.1] < (64.1, 65.5] < (65.5, 66.9] < (66.9, 72.3]]\n",
    "0 = 60.3 đến <64.1\n",
    "1 = 64.1 đến <65.5\n",
    "2 = 65.5 đến <66.9\n",
    "3 = 66.9 đến <72.3"
   ]
  },
  {
   "cell_type": "markdown",
   "id": "4da2d140",
   "metadata": {},
   "source": [
    "KHUNG KHỐI LƯỢNG XE\n",
    "Name: curbweight, Length: 205, dtype: category\n",
    "Categories (4, interval[int64, right]): [(1488, 2145] < (2145, 2414] < (2414, 2935] < (2935, 4066]]\n",
    "0 = 1488 đến <2145\n",
    "1 = 2145 đến <2414\n",
    "2 = 2414 đến <2935\n",
    "3 = 2935 đến <4066"
   ]
  },
  {
   "cell_type": "markdown",
   "id": "431e7856",
   "metadata": {},
   "source": [
    "KHUNG LOẠI ĐỘNG CƠ\n",
    "0 = diesel\n",
    "1 = gas"
   ]
  },
  {
   "cell_type": "code",
   "execution_count": null,
   "id": "121a1b89",
   "metadata": {},
   "outputs": [],
   "source": []
  }
 ],
 "metadata": {
  "kernelspec": {
   "display_name": "Python 3 (ipykernel)",
   "language": "python",
   "name": "python3"
  },
  "language_info": {
   "codemirror_mode": {
    "name": "ipython",
    "version": 3
   },
   "file_extension": ".py",
   "mimetype": "text/x-python",
   "name": "python",
   "nbconvert_exporter": "python",
   "pygments_lexer": "ipython3",
   "version": "3.9.12"
  }
 },
 "nbformat": 4,
 "nbformat_minor": 5
}
